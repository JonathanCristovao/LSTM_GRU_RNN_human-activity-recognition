{
 "cells": [
  {
   "cell_type": "code",
   "execution_count": 164,
   "metadata": {},
   "outputs": [],
   "source": [
    "import numpy as np\n",
    "import pandas as pd"
   ]
  },
  {
   "cell_type": "code",
   "execution_count": 171,
   "metadata": {},
   "outputs": [],
   "source": [
    "df= pd.read_csv('dataset_agumentation/seated_aug/seated_aug100.csv')\n",
    "#df.head()"
   ]
  },
  {
   "cell_type": "code",
   "execution_count": 172,
   "metadata": {},
   "outputs": [],
   "source": [
    "df1 = df.copy()\n",
    "df2 = df.copy()\n",
    "df3 = df.copy()\n",
    "df4 = df.copy()\n",
    "\n",
    "del df1['Q_I_2'];del df1['Q_J_2'];del df1['Q_K_2'];del df1['Q_R_2']\n",
    "del df1['Q_I_3'];del df1['Q_J_3'];del df1['Q_K_3'];del df1['Q_R_3']\n",
    "del df1['Q_I_4'];del df1['Q_J_4'];del df1['Q_K_4'];del df1['Q_R_4']\n",
    "\n",
    "del df2['Q_I_1'];del df2['Q_J_1'];del df2['Q_K_1'];del df2['Q_R_1']\n",
    "del df2['Q_I_3'];del df2['Q_J_3'];del df2['Q_K_3'];del df2['Q_R_3']\n",
    "del df2['Q_I_4'];del df2['Q_J_4'];del df2['Q_K_4'];del df2['Q_R_4']\n",
    "\n",
    "del df3['Q_I_2'];del df3['Q_J_2'];del df3['Q_K_2'];del df3['Q_R_2']\n",
    "del df3['Q_I_1'];del df3['Q_J_1'];del df3['Q_K_1'];del df3['Q_R_1']\n",
    "del df3['Q_I_4'];del df3['Q_J_4'];del df3['Q_K_4'];del df3['Q_R_4']\n",
    "\n",
    "del df4['Q_I_2'];del df4['Q_J_2'];del df4['Q_K_2'];del df4['Q_R_2']\n",
    "del df4['Q_I_3'];del df4['Q_J_3'];del df4['Q_K_3'];del df4['Q_R_3']\n",
    "del df4['Q_I_1'];del df4['Q_J_1'];del df4['Q_K_1'];del df4['Q_R_1']\n",
    "\n",
    "df1['ID_S'] = 1\n",
    "df2['ID_S'] = 2\n",
    "df3['ID_S'] = 3\n",
    "df4['ID_S'] = 4\n",
    "\n",
    "df1 = df1.rename(columns={'Q_I_1': 'Q_I', 'Q_J_1': 'Q_J', 'Q_K_1': 'Q_K', 'Q_R_1': 'Q_R'})\n",
    "df2 = df2.rename(columns={'Q_I_2': 'Q_I', 'Q_J_2': 'Q_J', 'Q_K_2': 'Q_K', 'Q_R_2': 'Q_R'})\n",
    "df3 = df3.rename(columns={'Q_I_3': 'Q_I', 'Q_J_3': 'Q_J', 'Q_K_3': 'Q_K', 'Q_R_3': 'Q_R'})\n",
    "df4 = df4.rename(columns={'Q_I_4': 'Q_I', 'Q_J_4': 'Q_J', 'Q_K_4': 'Q_K', 'Q_R_4': 'Q_R'})\n"
   ]
  },
  {
   "cell_type": "code",
   "execution_count": 173,
   "metadata": {},
   "outputs": [],
   "source": [
    "result = pd.merge(df1,df2, how=\"outer\", on=[\"Q_I\",\"Q_J\",\"Q_K\",\"Q_R\",\"ID_S\",\"time\",\"label\"])\n",
    "result = pd.merge(result,df3, how=\"outer\", on=[\"Q_I\",\"Q_J\",\"Q_K\",\"Q_R\",\"ID_S\",\"time\",\"label\"])\n",
    "result = pd.merge(result,df4, how=\"outer\", on=[\"Q_I\",\"Q_J\",\"Q_K\",\"Q_R\",\"ID_S\",\"time\",\"label\"])\n",
    "result = result.sort_values(by='time')\n",
    "result = result.reindex(columns=['time','ID_S','Q_I','Q_J','Q_K','Q_R','label'])\n"
   ]
  },
  {
   "cell_type": "code",
   "execution_count": 174,
   "metadata": {},
   "outputs": [],
   "source": [
    "result.to_csv('dataset_agumentation_final/seated_aug/seated_aug100.csv',index=False) "
   ]
  },
  {
   "cell_type": "code",
   "execution_count": 178,
   "metadata": {},
   "outputs": [],
   "source": [
    "for i in range(1,41):\n",
    "\n",
    "    df= pd.read_csv('dataset_agumentation/wuphill_aug/iw_uphill_aug'+str(i)+'.csv')\n",
    "\n",
    "    df1 = df.copy()\n",
    "    df2 = df.copy()\n",
    "    df3 = df.copy()\n",
    "    df4 = df.copy()\n",
    "\n",
    "    del df1['Q_I_2'];del df1['Q_J_2'];del df1['Q_K_2'];del df1['Q_R_2']\n",
    "    del df1['Q_I_3'];del df1['Q_J_3'];del df1['Q_K_3'];del df1['Q_R_3']\n",
    "    del df1['Q_I_4'];del df1['Q_J_4'];del df1['Q_K_4'];del df1['Q_R_4']\n",
    "\n",
    "    del df2['Q_I_1'];del df2['Q_J_1'];del df2['Q_K_1'];del df2['Q_R_1']\n",
    "    del df2['Q_I_3'];del df2['Q_J_3'];del df2['Q_K_3'];del df2['Q_R_3']\n",
    "    del df2['Q_I_4'];del df2['Q_J_4'];del df2['Q_K_4'];del df2['Q_R_4']\n",
    "\n",
    "    del df3['Q_I_2'];del df3['Q_J_2'];del df3['Q_K_2'];del df3['Q_R_2']\n",
    "    del df3['Q_I_1'];del df3['Q_J_1'];del df3['Q_K_1'];del df3['Q_R_1']\n",
    "    del df3['Q_I_4'];del df3['Q_J_4'];del df3['Q_K_4'];del df3['Q_R_4']\n",
    "\n",
    "    del df4['Q_I_2'];del df4['Q_J_2'];del df4['Q_K_2'];del df4['Q_R_2']\n",
    "    del df4['Q_I_3'];del df4['Q_J_3'];del df4['Q_K_3'];del df4['Q_R_3']\n",
    "    del df4['Q_I_1'];del df4['Q_J_1'];del df4['Q_K_1'];del df4['Q_R_1']\n",
    "\n",
    "    df1['ID_S'] = 1\n",
    "    df2['ID_S'] = 2\n",
    "    df3['ID_S'] = 3\n",
    "    df4['ID_S'] = 4\n",
    "\n",
    "    df1 = df1.rename(columns={'Q_I_1': 'Q_I', 'Q_J_1': 'Q_J', 'Q_K_1': 'Q_K', 'Q_R_1': 'Q_R'})\n",
    "    df2 = df2.rename(columns={'Q_I_2': 'Q_I', 'Q_J_2': 'Q_J', 'Q_K_2': 'Q_K', 'Q_R_2': 'Q_R'})\n",
    "    df3 = df3.rename(columns={'Q_I_3': 'Q_I', 'Q_J_3': 'Q_J', 'Q_K_3': 'Q_K', 'Q_R_3': 'Q_R'})\n",
    "    df4 = df4.rename(columns={'Q_I_4': 'Q_I', 'Q_J_4': 'Q_J', 'Q_K_4': 'Q_K', 'Q_R_4': 'Q_R'})\n",
    "\n",
    "\n",
    "    result = pd.merge(df1,df2, how=\"outer\", on=[\"Q_I\",\"Q_J\",\"Q_K\",\"Q_R\",\"ID_S\",\"time\",\"label\"])\n",
    "    result = pd.merge(result,df3, how=\"outer\", on=[\"Q_I\",\"Q_J\",\"Q_K\",\"Q_R\",\"ID_S\",\"time\",\"label\"])\n",
    "    result = pd.merge(result,df4, how=\"outer\", on=[\"Q_I\",\"Q_J\",\"Q_K\",\"Q_R\",\"ID_S\",\"time\",\"label\"])\n",
    "    result = result.sort_values(by='time')\n",
    "    result = result.reindex(columns=['time','ID_S','Q_I','Q_J','Q_K','Q_R','label'])\n",
    "\n",
    "\n",
    "\n",
    "    result.to_csv('dataset_agumentation_final/wuphill_aug/wuphill_aug'+str(i)+'.csv',index=False) "
   ]
  }
 ],
 "metadata": {
  "kernelspec": {
   "display_name": "Python 3.9.12 ('base')",
   "language": "python",
   "name": "python3"
  },
  "language_info": {
   "codemirror_mode": {
    "name": "ipython",
    "version": 3
   },
   "file_extension": ".py",
   "mimetype": "text/x-python",
   "name": "python",
   "nbconvert_exporter": "python",
   "pygments_lexer": "ipython3",
   "version": "3.9.12"
  },
  "orig_nbformat": 4,
  "vscode": {
   "interpreter": {
    "hash": "0a68ab044c6ea367198d7b58f0f8352272d5267d2d2c131306c104f6e9ede3d6"
   }
  }
 },
 "nbformat": 4,
 "nbformat_minor": 2
}

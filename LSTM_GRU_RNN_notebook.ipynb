{
  "cells": [
    {
      "cell_type": "markdown",
      "metadata": {
        "id": "view-in-github",
        "colab_type": "text"
      },
      "source": [
        "<a href=\"https://colab.research.google.com/github/JonathanCristovao/LSTM_GRU_RNN_human-activity-recognition/blob/main/LSTM_GRU_RNN_notebook.ipynb\" target=\"_parent\"><img src=\"https://colab.research.google.com/assets/colab-badge.svg\" alt=\"Open In Colab\"/></a>"
      ]
    },
    {
      "cell_type": "markdown",
      "source": [
        "# This notebook was run on google colab"
      ],
      "metadata": {
        "id": "16WhqkwcseIu"
      }
    },
    {
      "cell_type": "code",
      "source": [
        "from google.colab import drive\n",
        "drive.mount('/content/drive')"
      ],
      "metadata": {
        "colab": {
          "base_uri": "https://localhost:8080/"
        },
        "id": "_pcRQvKt9r4Q",
        "outputId": "3f9d2285-2bfd-45ad-a561-8ab392ca6932"
      },
      "execution_count": 2,
      "outputs": [
        {
          "output_type": "stream",
          "name": "stdout",
          "text": [
            "Mounted at /content/drive\n"
          ]
        }
      ]
    },
    {
      "cell_type": "markdown",
      "metadata": {
        "id": "csFMJZEe9I0I"
      },
      "source": [
        "# Import Library"
      ]
    },
    {
      "cell_type": "code",
      "source": [
        "!pip install keras_self_attention"
      ],
      "metadata": {
        "colab": {
          "base_uri": "https://localhost:8080/"
        },
        "id": "Ai6fqg4x9rM9",
        "outputId": "e0f5283d-5cc2-4cd6-9f2f-1cca74d4b804"
      },
      "execution_count": 3,
      "outputs": [
        {
          "output_type": "stream",
          "name": "stdout",
          "text": [
            "Looking in indexes: https://pypi.org/simple, https://us-python.pkg.dev/colab-wheels/public/simple/\n",
            "Collecting keras_self_attention\n",
            "  Downloading keras-self-attention-0.51.0.tar.gz (11 kB)\n",
            "Requirement already satisfied: numpy in /usr/local/lib/python3.7/dist-packages (from keras_self_attention) (1.21.6)\n",
            "Building wheels for collected packages: keras-self-attention\n",
            "  Building wheel for keras-self-attention (setup.py) ... \u001b[?25l\u001b[?25hdone\n",
            "  Created wheel for keras-self-attention: filename=keras_self_attention-0.51.0-py3-none-any.whl size=18912 sha256=1c38464ec76f6fb3c53f818e8d2deb368e3d762b9fa0087cf04e5d204bc16120\n",
            "  Stored in directory: /root/.cache/pip/wheels/95/b1/a8/5ee00cc137940b2f6fa198212e8f45d813d0e0d9c3a04035a3\n",
            "Successfully built keras-self-attention\n",
            "Installing collected packages: keras-self-attention\n",
            "Successfully installed keras-self-attention-0.51.0\n"
          ]
        }
      ]
    },
    {
      "cell_type": "code",
      "source": [
        "import pandas as pd\n",
        "import numpy as np\n",
        "import matplotlib.pyplot as plt\n",
        "import seaborn as sns\n",
        "import tensorflow as tf\n",
        "from scipy import stats\n",
        "from sklearn import metrics\n",
        "from sklearn.metrics import classification_report\n",
        "import glob\n",
        "import csv\n",
        "import os\n",
        "%matplotlib inline\n",
        "from keras_self_attention import SeqSelfAttention\n",
        "import warnings\n",
        "warnings.filterwarnings('ignore')"
      ],
      "metadata": {
        "id": "_52yqQ6hc560"
      },
      "execution_count": 4,
      "outputs": []
    },
    {
      "cell_type": "markdown",
      "source": [
        "## The dataset used in this notebook can be downloaded here:\n",
        "[Click here to download the Dataset](https://www.kaggle.com/datasets/jonathansilva2020/dataset-for-human-activity-recognition-har)\n",
        "\n"
      ],
      "metadata": {
        "id": "1-ak4Az0j11p"
      }
    },
    {
      "cell_type": "code",
      "execution_count": 5,
      "metadata": {
        "id": "_CZofzgJ9I0K"
      },
      "outputs": [],
      "source": [
        "interesting_dir = \"/content/drive/MyDrive/dataset_artigo_sensores_new\"\n",
        "interesting_labels = ['seated','stand','walk','iw_uphill']\n",
        "save_filename = \"activity\""
      ]
    },
    {
      "cell_type": "markdown",
      "metadata": {
        "id": "0tddFIoe9I0M"
      },
      "source": [
        "## Concate and label the raw data  "
      ]
    },
    {
      "cell_type": "code",
      "execution_count": 6,
      "metadata": {
        "id": "FXYz5psi9I0N"
      },
      "outputs": [],
      "source": [
        "def data_concate_label(path,label):\n",
        "    all_files1 = glob.glob(path + \"/*.csv\")\n",
        "    \n",
        "    li = []\n",
        "\n",
        "    for filename in all_files1:\n",
        "        df = pd.read_csv(filename, index_col=None, header=0)\n",
        "        \n",
        "        if 'label' in df.columns:\n",
        "            pass\n",
        "        else:df['label'] = str(label)\n",
        "        li.append(df)\n",
        "    frame = pd.concat(li, axis=0, ignore_index=True)\n",
        "    if len(df.columns) == 8 :\n",
        "        new_header =['date','time','ID_S','Q_I','Q_J','Q_K','Q_R','label']\n",
        "    \n",
        "    else :\n",
        "       \n",
        "        new_header =['date','time','ID_S','Q_I','Q_J','Q_K','Q_R','label']\n",
        "\n",
        "    frame = frame[:16000]\n",
        "    \n",
        "    print(frame.shape)\n",
        "    print(len(df.columns))\n",
        "    frame.to_csv(\"/content/drive/MyDrive/data/novo_\"+str(label)+\".csv\",index = False,header=new_header)\n",
        "    "
      ]
    },
    {
      "cell_type": "code",
      "source": [
        "path1 = \"/content/drive/MyDrive/dataset_artigo_sensores_new/seated\"\n",
        "label1 = \"seated\"\n",
        "path2 = \"/content/drive/MyDrive/dataset_artigo_sensores_new/stand\"\n",
        "label2 = \"stand\"\n",
        "path3 = \"/content/drive/MyDrive/dataset_artigo_sensores_new/walking\"\n",
        "label3 = \"walk\"\n",
        "path4 = \"/content/drive/MyDrive/dataset_artigo_sensores_new/iwuphill\"\n",
        "label4 = \"iw_uphill\"\n",
        "data_concate_label(path1,label1)\n",
        "data_concate_label(path2,label2)\n",
        "data_concate_label(path3,label3)\n",
        "data_concate_label(path4,label4)"
      ],
      "metadata": {
        "colab": {
          "base_uri": "https://localhost:8080/"
        },
        "id": "4N7NLf7KyLjs",
        "outputId": "8c50d31e-b621-47b7-caa0-f537a7e2b732"
      },
      "execution_count": 7,
      "outputs": [
        {
          "output_type": "stream",
          "name": "stdout",
          "text": [
            "(7267, 8)\n",
            "8\n",
            "(6110, 8)\n",
            "8\n",
            "(4980, 8)\n",
            "8\n",
            "(2656, 8)\n",
            "8\n"
          ]
        }
      ]
    },
    {
      "cell_type": "markdown",
      "metadata": {
        "id": "TGWpUbXX9I0P"
      },
      "source": [
        "## Concate all data into one .csv file"
      ]
    },
    {
      "cell_type": "code",
      "execution_count": 8,
      "metadata": {
        "scrolled": false,
        "colab": {
          "base_uri": "https://localhost:8080/",
          "height": 224
        },
        "id": "3jfl5sIf9I0Q",
        "outputId": "f295c28b-0d36-4cbc-eaab-e14a75ecc7fb"
      },
      "outputs": [
        {
          "output_type": "stream",
          "name": "stdout",
          "text": [
            "8\n"
          ]
        },
        {
          "output_type": "execute_result",
          "data": {
            "text/plain": [
              "   ID_S   Q_I   Q_J   Q_K   Q_R   label\n",
              "0     2  0.09  0.02  0.79  0.61  seated\n",
              "1     4  0.02 -0.04  0.73  0.68  seated\n",
              "2     1  0.27  0.58 -0.09  0.77  seated\n",
              "3     3  0.29  0.53 -0.44  0.66  seated\n",
              "4     2  0.09  0.02  0.79  0.61  seated"
            ],
            "text/html": [
              "\n",
              "  <div id=\"df-8c804403-c876-41bc-bc40-a3174dc7743f\">\n",
              "    <div class=\"colab-df-container\">\n",
              "      <div>\n",
              "<style scoped>\n",
              "    .dataframe tbody tr th:only-of-type {\n",
              "        vertical-align: middle;\n",
              "    }\n",
              "\n",
              "    .dataframe tbody tr th {\n",
              "        vertical-align: top;\n",
              "    }\n",
              "\n",
              "    .dataframe thead th {\n",
              "        text-align: right;\n",
              "    }\n",
              "</style>\n",
              "<table border=\"1\" class=\"dataframe\">\n",
              "  <thead>\n",
              "    <tr style=\"text-align: right;\">\n",
              "      <th></th>\n",
              "      <th>ID_S</th>\n",
              "      <th>Q_I</th>\n",
              "      <th>Q_J</th>\n",
              "      <th>Q_K</th>\n",
              "      <th>Q_R</th>\n",
              "      <th>label</th>\n",
              "    </tr>\n",
              "  </thead>\n",
              "  <tbody>\n",
              "    <tr>\n",
              "      <th>0</th>\n",
              "      <td>2</td>\n",
              "      <td>0.09</td>\n",
              "      <td>0.02</td>\n",
              "      <td>0.79</td>\n",
              "      <td>0.61</td>\n",
              "      <td>seated</td>\n",
              "    </tr>\n",
              "    <tr>\n",
              "      <th>1</th>\n",
              "      <td>4</td>\n",
              "      <td>0.02</td>\n",
              "      <td>-0.04</td>\n",
              "      <td>0.73</td>\n",
              "      <td>0.68</td>\n",
              "      <td>seated</td>\n",
              "    </tr>\n",
              "    <tr>\n",
              "      <th>2</th>\n",
              "      <td>1</td>\n",
              "      <td>0.27</td>\n",
              "      <td>0.58</td>\n",
              "      <td>-0.09</td>\n",
              "      <td>0.77</td>\n",
              "      <td>seated</td>\n",
              "    </tr>\n",
              "    <tr>\n",
              "      <th>3</th>\n",
              "      <td>3</td>\n",
              "      <td>0.29</td>\n",
              "      <td>0.53</td>\n",
              "      <td>-0.44</td>\n",
              "      <td>0.66</td>\n",
              "      <td>seated</td>\n",
              "    </tr>\n",
              "    <tr>\n",
              "      <th>4</th>\n",
              "      <td>2</td>\n",
              "      <td>0.09</td>\n",
              "      <td>0.02</td>\n",
              "      <td>0.79</td>\n",
              "      <td>0.61</td>\n",
              "      <td>seated</td>\n",
              "    </tr>\n",
              "  </tbody>\n",
              "</table>\n",
              "</div>\n",
              "      <button class=\"colab-df-convert\" onclick=\"convertToInteractive('df-8c804403-c876-41bc-bc40-a3174dc7743f')\"\n",
              "              title=\"Convert this dataframe to an interactive table.\"\n",
              "              style=\"display:none;\">\n",
              "        \n",
              "  <svg xmlns=\"http://www.w3.org/2000/svg\" height=\"24px\"viewBox=\"0 0 24 24\"\n",
              "       width=\"24px\">\n",
              "    <path d=\"M0 0h24v24H0V0z\" fill=\"none\"/>\n",
              "    <path d=\"M18.56 5.44l.94 2.06.94-2.06 2.06-.94-2.06-.94-.94-2.06-.94 2.06-2.06.94zm-11 1L8.5 8.5l.94-2.06 2.06-.94-2.06-.94L8.5 2.5l-.94 2.06-2.06.94zm10 10l.94 2.06.94-2.06 2.06-.94-2.06-.94-.94-2.06-.94 2.06-2.06.94z\"/><path d=\"M17.41 7.96l-1.37-1.37c-.4-.4-.92-.59-1.43-.59-.52 0-1.04.2-1.43.59L10.3 9.45l-7.72 7.72c-.78.78-.78 2.05 0 2.83L4 21.41c.39.39.9.59 1.41.59.51 0 1.02-.2 1.41-.59l7.78-7.78 2.81-2.81c.8-.78.8-2.07 0-2.86zM5.41 20L4 18.59l7.72-7.72 1.47 1.35L5.41 20z\"/>\n",
              "  </svg>\n",
              "      </button>\n",
              "      \n",
              "  <style>\n",
              "    .colab-df-container {\n",
              "      display:flex;\n",
              "      flex-wrap:wrap;\n",
              "      gap: 12px;\n",
              "    }\n",
              "\n",
              "    .colab-df-convert {\n",
              "      background-color: #E8F0FE;\n",
              "      border: none;\n",
              "      border-radius: 50%;\n",
              "      cursor: pointer;\n",
              "      display: none;\n",
              "      fill: #1967D2;\n",
              "      height: 32px;\n",
              "      padding: 0 0 0 0;\n",
              "      width: 32px;\n",
              "    }\n",
              "\n",
              "    .colab-df-convert:hover {\n",
              "      background-color: #E2EBFA;\n",
              "      box-shadow: 0px 1px 2px rgba(60, 64, 67, 0.3), 0px 1px 3px 1px rgba(60, 64, 67, 0.15);\n",
              "      fill: #174EA6;\n",
              "    }\n",
              "\n",
              "    [theme=dark] .colab-df-convert {\n",
              "      background-color: #3B4455;\n",
              "      fill: #D2E3FC;\n",
              "    }\n",
              "\n",
              "    [theme=dark] .colab-df-convert:hover {\n",
              "      background-color: #434B5C;\n",
              "      box-shadow: 0px 1px 3px 1px rgba(0, 0, 0, 0.15);\n",
              "      filter: drop-shadow(0px 1px 2px rgba(0, 0, 0, 0.3));\n",
              "      fill: #FFFFFF;\n",
              "    }\n",
              "  </style>\n",
              "\n",
              "      <script>\n",
              "        const buttonEl =\n",
              "          document.querySelector('#df-8c804403-c876-41bc-bc40-a3174dc7743f button.colab-df-convert');\n",
              "        buttonEl.style.display =\n",
              "          google.colab.kernel.accessAllowed ? 'block' : 'none';\n",
              "\n",
              "        async function convertToInteractive(key) {\n",
              "          const element = document.querySelector('#df-8c804403-c876-41bc-bc40-a3174dc7743f');\n",
              "          const dataTable =\n",
              "            await google.colab.kernel.invokeFunction('convertToInteractive',\n",
              "                                                     [key], {});\n",
              "          if (!dataTable) return;\n",
              "\n",
              "          const docLinkHtml = 'Like what you see? Visit the ' +\n",
              "            '<a target=\"_blank\" href=https://colab.research.google.com/notebooks/data_table.ipynb>data table notebook</a>'\n",
              "            + ' to learn more about interactive tables.';\n",
              "          element.innerHTML = '';\n",
              "          dataTable['output_type'] = 'display_data';\n",
              "          await google.colab.output.renderOutput(dataTable, element);\n",
              "          const docLink = document.createElement('div');\n",
              "          docLink.innerHTML = docLinkHtml;\n",
              "          element.appendChild(docLink);\n",
              "        }\n",
              "      </script>\n",
              "    </div>\n",
              "  </div>\n",
              "  "
            ]
          },
          "metadata": {},
          "execution_count": 8
        }
      ],
      "source": [
        "import copy\n",
        "\n",
        "df = pd.DataFrame()\n",
        "for i in range(len(interesting_labels)):\n",
        "    df_tmp = pd.read_csv(interesting_dir+\"/\"+save_filename+\"_\"+interesting_labels[i]+'.csv',header = 0)\n",
        "    df = pd.concat([df, df_tmp])\n",
        "print(len(df.columns))\n",
        "\n",
        "drop_list = ['date','time']\n",
        "\n",
        "df = df.drop(drop_list, axis=1)\n",
        "df = df.dropna()\n",
        "\n",
        "all_data_filename = \"total.csv\"\n",
        "df.to_csv(interesting_dir+all_data_filename)\n",
        "\n",
        "df.head()"
      ]
    },
    {
      "cell_type": "markdown",
      "metadata": {
        "id": "pIVWZ7qF9I0S"
      },
      "source": [
        "## Feature correlation "
      ]
    },
    {
      "cell_type": "code",
      "execution_count": 9,
      "metadata": {
        "scrolled": true,
        "colab": {
          "base_uri": "https://localhost:8080/"
        },
        "id": "T6lqHghB9I0S",
        "outputId": "1371e3b4-4aeb-44a6-d9f4-de8891335f1c"
      },
      "outputs": [
        {
          "output_type": "stream",
          "name": "stdout",
          "text": [
            "['ID_S', 'Q_I', 'Q_J', 'Q_K', 'Q_R']\n"
          ]
        },
        {
          "output_type": "execute_result",
          "data": {
            "text/plain": [
              "ID_S    0\n",
              "Q_I     0\n",
              "Q_J     0\n",
              "Q_K     0\n",
              "Q_R     0\n",
              "dtype: int64"
            ]
          },
          "metadata": {},
          "execution_count": 9
        }
      ],
      "source": [
        "df_cor = copy.deepcopy(df) \n",
        "\n",
        "features = df_cor.columns[0:-1]\n",
        "df_cor[\"label\"] = pd.factorize(df_cor.label)[0]\n",
        "traindf = pd.DataFrame(df_cor,columns=features)\n",
        "\n",
        "feature_name = list(traindf.columns)\n",
        "print(feature_name)\n",
        "y = df_cor['label']\n",
        "X = traindf.copy()\n",
        "X.isna().sum()"
      ]
    },
    {
      "cell_type": "code",
      "execution_count": 10,
      "metadata": {
        "colab": {
          "base_uri": "https://localhost:8080/",
          "height": 283
        },
        "id": "hK9Au9z29I0T",
        "outputId": "8cf8d844-9923-4f0e-8326-3ca43ef16fd8"
      },
      "outputs": [
        {
          "output_type": "stream",
          "name": "stdout",
          "text": [
            "[0.09760323 0.17581389 0.18568504 0.27627226 0.26462558]\n"
          ]
        },
        {
          "output_type": "display_data",
          "data": {
            "text/plain": [
              "<Figure size 432x288 with 1 Axes>"
            ],
            "image/png": "[encoded data removed]"
          },
          "metadata": {
            "needs_background": "light"
          }
        }
      ],
      "source": [
        "from sklearn.ensemble import ExtraTreesClassifier\n",
        "import matplotlib.pyplot as plt\n",
        "model = ExtraTreesClassifier()\n",
        "model.fit(X,y)\n",
        "print(model.feature_importances_) \n",
        "#plot graph of feature importances for better visualization\n",
        "feat_importances = pd.Series(model.feature_importances_, index=X.columns)\n",
        "feat_importances.nlargest(10).plot(kind='barh')\n",
        "plt.show()"
      ]
    },
    {
      "cell_type": "code",
      "execution_count": 11,
      "metadata": {
        "scrolled": true,
        "id": "5-HsSboK9I0U"
      },
      "outputs": [],
      "source": [
        "#get correlations of each features in dataset\n",
        "#corrmat = df_cor.corr()\n",
        "#top_corr_features = corrmat.index\n",
        "#plt.figure(figsize=(20,20))\n",
        "#plot heat map\n",
        "#g=sns.heatmap(df_cor[top_corr_features].corr(),annot=True,cmap=\"RdYlGn\")"
      ]
    },
    {
      "cell_type": "code",
      "execution_count": 12,
      "metadata": {
        "colab": {
          "base_uri": "https://localhost:8080/"
        },
        "id": "TMpkc4pQ9I0U",
        "outputId": "73a8fdf7-4203-43d1-bf67-c7e51fef2f07"
      },
      "outputs": [
        {
          "output_type": "execute_result",
          "data": {
            "text/plain": [
              "['ID_S', 'Q_I', 'Q_J', 'Q_K', 'Q_R']"
            ]
          },
          "metadata": {},
          "execution_count": 12
        }
      ],
      "source": [
        "num_feats= len(feature_name)\n",
        "X.columns.tolist()"
      ]
    },
    {
      "cell_type": "code",
      "execution_count": 13,
      "metadata": {
        "colab": {
          "base_uri": "https://localhost:8080/"
        },
        "id": "Etbf339z9I0V",
        "outputId": "995d4083-2567-4e08-f25b-4a16b3894256"
      },
      "outputs": [
        {
          "output_type": "execute_result",
          "data": {
            "text/plain": [
              "{'Q_R': 0.4239660579305199,\n",
              " 'Q_K': 0.3969119027314007,\n",
              " 'Q_J': 0.14835000752817498,\n",
              " 'Q_I': 0.010849572101052486,\n",
              " 'ID_S': 0.00046961609606380503}"
            ]
          },
          "metadata": {},
          "execution_count": 13
        }
      ],
      "source": [
        "def cor_selector(X, y,num_feats):\n",
        "    cor_list = []\n",
        "    feature_name = X.columns.tolist()\n",
        "    \n",
        "    # calculate the correlation with y for each feature\n",
        "    for i in X.columns.tolist():\n",
        "        cor = np.corrcoef(X[i], y)[0, 1]\n",
        "        cor_list.append(cor)\n",
        "        \n",
        "    # replace NaN with 0\n",
        "    cor_list = [0 if np.isnan(i) else i for i in cor_list]\n",
        "    \n",
        "    # feature name\n",
        "    cor_feature = X.iloc[:,np.argsort(np.abs(cor_list))[-num_feats:]].columns.tolist()\n",
        "   \n",
        "    # feature selection? 0 for not select, 1 for select\n",
        "    cor_support = [True if i in cor_feature else False for i in feature_name]\n",
        "\n",
        "    return cor_support, cor_feature, cor_list\n",
        "\n",
        "cor_support, cor_feature, cor_list = cor_selector(X, y,num_feats)\n",
        "cor_val=[abs(x) for x in cor_list]\n",
        "cor_result = dict(zip(cor_feature, cor_val))\n",
        "myDict = {key:val for key, val in cor_result.items() if val > 0}\n",
        "{k: v for k, v in sorted(myDict.items(),reverse=True, key=lambda item: item[1])}"
      ]
    },
    {
      "cell_type": "code",
      "execution_count": 14,
      "metadata": {
        "id": "qS2rAhS99I0W",
        "colab": {
          "base_uri": "https://localhost:8080/"
        },
        "outputId": "a9e4a0be-707c-4f0b-823b-e98deee7a009"
      },
      "outputs": [
        {
          "output_type": "execute_result",
          "data": {
            "text/plain": [
              "Index(['seated', 'iw_uphill', 'stand', 'walk'], dtype='object')"
            ]
          },
          "metadata": {},
          "execution_count": 14
        }
      ],
      "source": [
        "activities = df['label'].value_counts().index\n",
        "activities"
      ]
    },
    {
      "cell_type": "markdown",
      "metadata": {
        "id": "huRwjGga9I0Z"
      },
      "source": [
        "## Split training and testing data"
      ]
    },
    {
      "cell_type": "code",
      "execution_count": 15,
      "metadata": {
        "colab": {
          "base_uri": "https://localhost:8080/"
        },
        "id": "vEqVzdL-9I0Z",
        "outputId": "77e37d8d-b582-49f0-9599-e585069393c7"
      },
      "outputs": [
        {
          "output_type": "stream",
          "name": "stdout",
          "text": [
            "Number of train samples:  2066\n",
            "Number of test samples:  518\n"
          ]
        }
      ],
      "source": [
        "def train_test_split(label, ratio):\n",
        "    split_point = int(len(df[df.label == label]) * ratio)\n",
        "    return (df[df.label == label].iloc[:split_point, :], df[df.label == label].iloc[split_point:, :])\n",
        "\n",
        "split_ratio = 0.8\n",
        "train_data = pd.DataFrame([])\n",
        "test_data = pd.DataFrame([])\n",
        "\n",
        "for i in range(len(interesting_labels)):\n",
        "    (train, test) = train_test_split(interesting_labels[i], split_ratio)\n",
        "    train_data = pd.concat([train_data, train])\n",
        "    test_data = pd.concat([test_data, test])\n",
        "\n",
        "print(\"Number of train samples: \", len(train_data))\n",
        "print(\"Number of test samples: \", len(test_data))\n",
        "\n",
        "\n",
        "train_label = train_data['label'].to_frame()\n",
        "test_label = test_data['label'].to_frame()"
      ]
    },
    {
      "cell_type": "markdown",
      "metadata": {
        "id": "9ZCSA5xL9I0Z"
      },
      "source": [
        "## Data Segmentation (Sliding Window)"
      ]
    },
    {
      "cell_type": "code",
      "execution_count": 36,
      "metadata": {
        "id": "err6EfHS9I0Z"
      },
      "outputs": [],
      "source": [
        "N_TIME_STEPS = 5 #sliding window length # 10 #120\n",
        "STEP = 2 # Sliding window step size 20\n",
        "N_FEATURES = 5\n",
        "\n",
        "def generate_sequence(x, y, n_time_steps, step):\n",
        "    \n",
        "    segments = []\n",
        "    labels = []\n",
        "    for i in range(0, len(x) - n_time_steps, step):\n",
        "\n",
        "        ID_S = x['ID_S'].values[i: i + n_time_steps]\n",
        "        Q_I = x['Q_I'].values[i: i + n_time_steps]\n",
        "        Q_J = x['Q_J'].values[i: i + n_time_steps]\n",
        "        Q_K = x['Q_K'].values[i: i + n_time_steps]\n",
        "        Q_R = x['Q_R'].values[i: i + n_time_steps]\n",
        "     \n",
        "        label = stats.mode(y['label'][i: i + n_time_steps])[0][0]\n",
        "        segments.append([ID_S, Q_I, Q_J, Q_K, Q_R])\n",
        "        labels.append(label)\n",
        "        \n",
        "    return segments, labels\n",
        "\n",
        "train_X, train_y = generate_sequence(train_data, train_label, N_TIME_STEPS, STEP)\n",
        "test_X, test_y = generate_sequence(test_data, test_label, N_TIME_STEPS, STEP)"
      ]
    },
    {
      "cell_type": "code",
      "execution_count": 37,
      "metadata": {
        "id": "Pt-HNaqG9I0Z"
      },
      "outputs": [],
      "source": [
        "# reshape input segments and one-hot encode labels\n",
        "def reshape_segments(x, y, n_time_steps, n_features):\n",
        "    \n",
        "    x_reshaped = np.asarray(x, dtype= np.float32).reshape(-1, n_time_steps, n_features)\n",
        "    y_reshaped = np.asarray(pd.get_dummies(y), dtype = np.float32)\n",
        "    return x_reshaped, y_reshaped\n",
        "\n",
        "X_train, y_train = reshape_segments(train_X, train_y, N_TIME_STEPS, N_FEATURES)\n",
        "X_test, y_test = reshape_segments(test_X, test_y, N_TIME_STEPS, N_FEATURES)"
      ]
    },
    {
      "cell_type": "code",
      "execution_count": 18,
      "metadata": {
        "scrolled": true,
        "id": "jJdwMt1L9I0a"
      },
      "outputs": [],
      "source": [
        "#y_test"
      ]
    },
    {
      "cell_type": "markdown",
      "metadata": {
        "id": "zjlqEMru9I0a"
      },
      "source": [
        "## Import DL Library"
      ]
    },
    {
      "cell_type": "code",
      "execution_count": 38,
      "metadata": {
        "id": "PFFl4sX99I0a"
      },
      "outputs": [],
      "source": [
        "from keras.regularizers import l2\n",
        "from keras.models import Sequential, load_model\n",
        "from keras.layers import Dense, LSTM, Flatten, Bidirectional\n",
        "from tensorflow.keras.layers import Attention\n",
        "from keras.layers import Conv2D, MaxPooling2D, Dropout\n",
        "from keras import optimizers\n",
        "from keras import backend as K\n",
        "from tensorflow.python.tools import freeze_graph\n",
        "from tensorflow.python.tools import optimize_for_inference_lib\n",
        "\n",
        "from keras.callbacks import ModelCheckpoint, LearningRateScheduler, TensorBoard, EarlyStopping, ReduceLROnPlateau\n",
        "N_CLASSES = 4\n",
        "L2 = 0.00001"
      ]
    },
    {
      "cell_type": "markdown",
      "metadata": {
        "id": "HYaKUb7w9I0b"
      },
      "source": [
        "## LSTM Model "
      ]
    },
    {
      "cell_type": "code",
      "execution_count": 39,
      "metadata": {
        "scrolled": true,
        "colab": {
          "base_uri": "https://localhost:8080/"
        },
        "id": "v2ojrWNt9I0b",
        "outputId": "c3bbd170-ccee-42eb-ff51-f7bf764dcd76"
      },
      "outputs": [
        {
          "output_type": "stream",
          "name": "stdout",
          "text": [
            "Model: \"sequential\"\n",
            "_________________________________________________________________\n",
            " Layer (type)                Output Shape              Param #   \n",
            "=================================================================\n",
            " bidirectional (Bidirectiona  (None, 5, 400)           329600    \n",
            " l)                                                              \n",
            "                                                                 \n",
            " Flatten (Flatten)           (None, 2000)              0         \n",
            "                                                                 \n",
            " Dense_3 (Dense)             (None, 128)               256128    \n",
            "                                                                 \n",
            " dropout (Dropout)           (None, 128)               0         \n",
            "                                                                 \n",
            " Dense_4 (Dense)             (None, 4)                 516       \n",
            "                                                                 \n",
            "=================================================================\n",
            "Total params: 586,244\n",
            "Trainable params: 586,244\n",
            "Non-trainable params: 0\n",
            "_________________________________________________________________\n",
            "Epoch 1/300\n",
            " 9/17 [==============>...............] - ETA: 0s - loss: 1.3722 - accuracy: 0.3125 \n",
            "Epoch 1: val_loss improved from inf to 1.27611, saving model to har_model_lstm_2021.h5\n",
            "17/17 [==============================] - 4s 62ms/step - loss: 1.3368 - accuracy: 0.3628 - val_loss: 1.2761 - val_accuracy: 0.5409\n",
            "Epoch 2/300\n",
            "17/17 [==============================] - ETA: 0s - loss: 1.0497 - accuracy: 0.5655\n",
            "Epoch 2: val_loss improved from 1.27611 to 1.02627, saving model to har_model_lstm_2021.h5\n",
            "17/17 [==============================] - 0s 11ms/step - loss: 1.0497 - accuracy: 0.5655 - val_loss: 1.0263 - val_accuracy: 0.6615\n",
            "Epoch 3/300\n",
            "17/17 [==============================] - ETA: 0s - loss: 0.7128 - accuracy: 0.7827\n",
            "Epoch 3: val_loss improved from 1.02627 to 0.79763, saving model to har_model_lstm_2021.h5\n",
            "17/17 [==============================] - 0s 12ms/step - loss: 0.7128 - accuracy: 0.7827 - val_loss: 0.7976 - val_accuracy: 0.7588\n",
            "Epoch 4/300\n",
            "17/17 [==============================] - ETA: 0s - loss: 0.4867 - accuracy: 0.8448\n",
            "Epoch 4: val_loss improved from 0.79763 to 0.73908, saving model to har_model_lstm_2021.h5\n",
            "17/17 [==============================] - 0s 12ms/step - loss: 0.4867 - accuracy: 0.8448 - val_loss: 0.7391 - val_accuracy: 0.8171\n",
            "Epoch 5/300\n",
            "17/17 [==============================] - ETA: 0s - loss: 0.3516 - accuracy: 0.9069\n",
            "Epoch 5: val_loss improved from 0.73908 to 0.50252, saving model to har_model_lstm_2021.h5\n",
            "17/17 [==============================] - 0s 12ms/step - loss: 0.3516 - accuracy: 0.9069 - val_loss: 0.5025 - val_accuracy: 0.8599\n",
            "Epoch 6/300\n",
            "17/17 [==============================] - ETA: 0s - loss: 0.2924 - accuracy: 0.9127\n",
            "Epoch 6: val_loss improved from 0.50252 to 0.40814, saving model to har_model_lstm_2021.h5\n",
            "17/17 [==============================] - 0s 12ms/step - loss: 0.2924 - accuracy: 0.9127 - val_loss: 0.4081 - val_accuracy: 0.8638\n",
            "Epoch 7/300\n",
            "17/17 [==============================] - ETA: 0s - loss: 0.2654 - accuracy: 0.9253\n",
            "Epoch 7: val_loss did not improve from 0.40814\n",
            "17/17 [==============================] - 0s 9ms/step - loss: 0.2654 - accuracy: 0.9253 - val_loss: 0.4144 - val_accuracy: 0.8755\n",
            "Epoch 8/300\n",
            "16/17 [===========================>..] - ETA: 0s - loss: 0.2563 - accuracy: 0.9199\n",
            "Epoch 8: val_loss did not improve from 0.40814\n",
            "17/17 [==============================] - 0s 9ms/step - loss: 0.2550 - accuracy: 0.9205 - val_loss: 0.4409 - val_accuracy: 0.8288\n",
            "Epoch 9/300\n",
            "17/17 [==============================] - ETA: 0s - loss: 0.2101 - accuracy: 0.9408\n",
            "Epoch 9: val_loss improved from 0.40814 to 0.34068, saving model to har_model_lstm_2021.h5\n",
            "17/17 [==============================] - 0s 12ms/step - loss: 0.2101 - accuracy: 0.9408 - val_loss: 0.3407 - val_accuracy: 0.9027\n",
            "Epoch 10/300\n",
            "17/17 [==============================] - ETA: 0s - loss: 0.1938 - accuracy: 0.9399\n",
            "Epoch 10: val_loss did not improve from 0.34068\n",
            "17/17 [==============================] - 0s 9ms/step - loss: 0.1938 - accuracy: 0.9399 - val_loss: 0.3432 - val_accuracy: 0.8833\n",
            "Epoch 11/300\n",
            "17/17 [==============================] - ETA: 0s - loss: 0.1923 - accuracy: 0.9408\n",
            "Epoch 11: val_loss did not improve from 0.34068\n",
            "17/17 [==============================] - 0s 9ms/step - loss: 0.1923 - accuracy: 0.9408 - val_loss: 0.3718 - val_accuracy: 0.8716\n",
            "Epoch 12/300\n",
            " 9/17 [==============>...............] - ETA: 0s - loss: 0.2114 - accuracy: 0.9358\n",
            "Epoch 12: val_loss did not improve from 0.34068\n",
            "17/17 [==============================] - 0s 9ms/step - loss: 0.1910 - accuracy: 0.9457 - val_loss: 0.3605 - val_accuracy: 0.8911\n",
            "Epoch 13/300\n",
            "16/17 [===========================>..] - ETA: 0s - loss: 0.2149 - accuracy: 0.9277\n",
            "Epoch 13: val_loss did not improve from 0.34068\n",
            "17/17 [==============================] - 0s 9ms/step - loss: 0.2140 - accuracy: 0.9282 - val_loss: 0.3502 - val_accuracy: 0.9066\n",
            "Epoch 14/300\n",
            "17/17 [==============================] - ETA: 0s - loss: 0.1637 - accuracy: 0.9564\n",
            "Epoch 14: val_loss improved from 0.34068 to 0.27870, saving model to har_model_lstm_2021.h5\n",
            "17/17 [==============================] - 0s 12ms/step - loss: 0.1637 - accuracy: 0.9564 - val_loss: 0.2787 - val_accuracy: 0.9455\n",
            "Epoch 15/300\n",
            "17/17 [==============================] - ETA: 0s - loss: 0.1475 - accuracy: 0.9612\n",
            "Epoch 15: val_loss did not improve from 0.27870\n",
            "17/17 [==============================] - 0s 9ms/step - loss: 0.1475 - accuracy: 0.9612 - val_loss: 0.3238 - val_accuracy: 0.8949\n",
            "Epoch 16/300\n",
            "17/17 [==============================] - ETA: 0s - loss: 0.1505 - accuracy: 0.9593\n",
            "Epoch 16: val_loss did not improve from 0.27870\n",
            "17/17 [==============================] - 0s 9ms/step - loss: 0.1505 - accuracy: 0.9593 - val_loss: 0.3017 - val_accuracy: 0.9144\n",
            "Epoch 17/300\n",
            " 9/17 [==============>...............] - ETA: 0s - loss: 0.1284 - accuracy: 0.9583\n",
            "Epoch 17: val_loss did not improve from 0.27870\n",
            "17/17 [==============================] - 0s 9ms/step - loss: 0.1393 - accuracy: 0.9573 - val_loss: 0.3275 - val_accuracy: 0.9183\n",
            "Epoch 18/300\n",
            "17/17 [==============================] - ETA: 0s - loss: 0.1544 - accuracy: 0.9564\n",
            "Epoch 18: val_loss improved from 0.27870 to 0.27411, saving model to har_model_lstm_2021.h5\n",
            "17/17 [==============================] - 0s 11ms/step - loss: 0.1544 - accuracy: 0.9564 - val_loss: 0.2741 - val_accuracy: 0.9416\n",
            "Epoch 19/300\n",
            "17/17 [==============================] - ETA: 0s - loss: 0.1306 - accuracy: 0.9670\n",
            "Epoch 19: val_loss improved from 0.27411 to 0.26666, saving model to har_model_lstm_2021.h5\n",
            "17/17 [==============================] - 0s 12ms/step - loss: 0.1306 - accuracy: 0.9670 - val_loss: 0.2667 - val_accuracy: 0.9377\n",
            "Epoch 20/300\n",
            "17/17 [==============================] - ETA: 0s - loss: 0.1222 - accuracy: 0.9651\n",
            "Epoch 20: val_loss did not improve from 0.26666\n",
            "17/17 [==============================] - 0s 9ms/step - loss: 0.1222 - accuracy: 0.9651 - val_loss: 0.2710 - val_accuracy: 0.9416\n",
            "Epoch 21/300\n",
            "17/17 [==============================] - ETA: 0s - loss: 0.1227 - accuracy: 0.9651\n",
            "Epoch 21: val_loss did not improve from 0.26666\n",
            "17/17 [==============================] - 0s 9ms/step - loss: 0.1227 - accuracy: 0.9651 - val_loss: 0.2892 - val_accuracy: 0.9494\n",
            "Epoch 22/300\n",
            "17/17 [==============================] - ETA: 0s - loss: 0.1137 - accuracy: 0.9738\n",
            "Epoch 22: val_loss improved from 0.26666 to 0.26533, saving model to har_model_lstm_2021.h5\n",
            "17/17 [==============================] - 0s 11ms/step - loss: 0.1137 - accuracy: 0.9738 - val_loss: 0.2653 - val_accuracy: 0.9494\n",
            "Epoch 23/300\n",
            "17/17 [==============================] - ETA: 0s - loss: 0.1141 - accuracy: 0.9699\n",
            "Epoch 23: val_loss did not improve from 0.26533\n",
            "17/17 [==============================] - 0s 9ms/step - loss: 0.1141 - accuracy: 0.9699 - val_loss: 0.3686 - val_accuracy: 0.8949\n",
            "Epoch 24/300\n",
            " 9/17 [==============>...............] - ETA: 0s - loss: 0.1197 - accuracy: 0.9722\n",
            "Epoch 24: val_loss improved from 0.26533 to 0.25170, saving model to har_model_lstm_2021.h5\n",
            "17/17 [==============================] - 0s 11ms/step - loss: 0.1215 - accuracy: 0.9699 - val_loss: 0.2517 - val_accuracy: 0.9533\n",
            "Epoch 25/300\n",
            "16/17 [===========================>..] - ETA: 0s - loss: 0.1210 - accuracy: 0.9688\n",
            "Epoch 25: val_loss did not improve from 0.25170\n",
            "17/17 [==============================] - 0s 9ms/step - loss: 0.1210 - accuracy: 0.9690 - val_loss: 0.2944 - val_accuracy: 0.9416\n",
            "Epoch 26/300\n",
            "17/17 [==============================] - ETA: 0s - loss: 0.1286 - accuracy: 0.9602\n",
            "Epoch 26: val_loss improved from 0.25170 to 0.23869, saving model to har_model_lstm_2021.h5\n",
            "17/17 [==============================] - 0s 11ms/step - loss: 0.1286 - accuracy: 0.9602 - val_loss: 0.2387 - val_accuracy: 0.9572\n",
            "Epoch 27/300\n",
            " 9/17 [==============>...............] - ETA: 0s - loss: 0.1229 - accuracy: 0.9670\n",
            "Epoch 27: val_loss did not improve from 0.23869\n",
            "17/17 [==============================] - 0s 9ms/step - loss: 0.0942 - accuracy: 0.9767 - val_loss: 0.2630 - val_accuracy: 0.9533\n",
            "Epoch 28/300\n",
            "17/17 [==============================] - ETA: 0s - loss: 0.0897 - accuracy: 0.9796\n",
            "Epoch 28: val_loss did not improve from 0.23869\n",
            "17/17 [==============================] - 0s 9ms/step - loss: 0.0897 - accuracy: 0.9796 - val_loss: 0.2590 - val_accuracy: 0.9416\n",
            "Epoch 29/300\n",
            " 9/17 [==============>...............] - ETA: 0s - loss: 0.0812 - accuracy: 0.9774\n",
            "Epoch 29: val_loss did not improve from 0.23869\n",
            "17/17 [==============================] - 0s 8ms/step - loss: 0.1033 - accuracy: 0.9719 - val_loss: 0.7564 - val_accuracy: 0.7743\n",
            "Epoch 30/300\n",
            "10/17 [================>.............] - ETA: 0s - loss: 0.2573 - accuracy: 0.9125\n",
            "Epoch 30: val_loss improved from 0.23869 to 0.23684, saving model to har_model_lstm_2021.h5\n",
            "17/17 [==============================] - 0s 11ms/step - loss: 0.2173 - accuracy: 0.9311 - val_loss: 0.2368 - val_accuracy: 0.9261\n",
            "Epoch 31/300\n",
            "14/17 [=======================>......] - ETA: 0s - loss: 0.1467 - accuracy: 0.9598\n",
            "Epoch 31: val_loss did not improve from 0.23684\n",
            "17/17 [==============================] - 0s 10ms/step - loss: 0.1416 - accuracy: 0.9602 - val_loss: 0.2540 - val_accuracy: 0.9533\n",
            "Epoch 32/300\n",
            "16/17 [===========================>..] - ETA: 0s - loss: 0.1298 - accuracy: 0.9668\n",
            "Epoch 32: val_loss improved from 0.23684 to 0.22902, saving model to har_model_lstm_2021.h5\n",
            "17/17 [==============================] - 0s 12ms/step - loss: 0.1292 - accuracy: 0.9670 - val_loss: 0.2290 - val_accuracy: 0.9533\n",
            "Epoch 33/300\n",
            "17/17 [==============================] - ETA: 0s - loss: 0.0899 - accuracy: 0.9777\n",
            "Epoch 33: val_loss did not improve from 0.22902\n",
            "17/17 [==============================] - 0s 9ms/step - loss: 0.0899 - accuracy: 0.9777 - val_loss: 0.2565 - val_accuracy: 0.9455\n",
            "Epoch 34/300\n",
            "17/17 [==============================] - ETA: 0s - loss: 0.0996 - accuracy: 0.9699\n",
            "Epoch 34: val_loss did not improve from 0.22902\n",
            "17/17 [==============================] - 0s 9ms/step - loss: 0.0996 - accuracy: 0.9699 - val_loss: 0.2437 - val_accuracy: 0.9416\n",
            "Epoch 35/300\n",
            "10/17 [================>.............] - ETA: 0s - loss: 0.0897 - accuracy: 0.9797\n",
            "Epoch 35: val_loss did not improve from 0.22902\n",
            "17/17 [==============================] - 0s 9ms/step - loss: 0.0978 - accuracy: 0.9709 - val_loss: 0.2444 - val_accuracy: 0.9533\n",
            "Epoch 36/300\n",
            "10/17 [================>.............] - ETA: 0s - loss: 0.0985 - accuracy: 0.9766\n",
            "Epoch 36: val_loss did not improve from 0.22902\n",
            "17/17 [==============================] - 0s 8ms/step - loss: 0.1007 - accuracy: 0.9738 - val_loss: 0.2600 - val_accuracy: 0.9494\n",
            "Epoch 37/300\n",
            "16/17 [===========================>..] - ETA: 0s - loss: 0.0826 - accuracy: 0.9805\n",
            "Epoch 37: val_loss did not improve from 0.22902\n",
            "17/17 [==============================] - 0s 9ms/step - loss: 0.0835 - accuracy: 0.9796 - val_loss: 0.2445 - val_accuracy: 0.9572\n"
          ]
        }
      ],
      "source": [
        "# LSTM model\n",
        "from keras.backend import clear_session\n",
        "filepath = 'har_model_lstm_2021.h5'\n",
        "\n",
        "clear_session()\n",
        "model = Sequential()\n",
        "model.add(Bidirectional(LSTM(200, return_sequences=True,kernel_initializer='orthogonal',\n",
        "                             kernel_regularizer=l2(L2), recurrent_regularizer=l2(L2),\n",
        "                             bias_regularizer=l2(L2),name=\"LSTM_1\"),\n",
        "                             input_shape=(N_TIME_STEPS, N_FEATURES)))\n",
        "\n",
        "model.add(Flatten(name='Flatten'))\n",
        "model.add(Dense(128, activation='relu', kernel_regularizer=l2(L2), bias_regularizer=l2(L2), name=\"Dense_3\"))\n",
        "model.add(Dropout(0.2))\n",
        "model.add(Dense(N_CLASSES, activation='softmax', kernel_regularizer=l2(L2), bias_regularizer=l2(L2), name=\"Dense_4\"))\n",
        "\n",
        "\n",
        "model.summary()\n",
        "\n",
        "checkpoint = ModelCheckpoint(filepath=filepath,\n",
        "                             monitor='val_loss',\n",
        "                             verbose=1,\n",
        "                             save_best_only=True)\n",
        "stop = EarlyStopping(monitor='val_loss', patience =5,\n",
        "                      verbose=0, mode='auto', baseline=None, \n",
        "                      restore_best_weights=False)\n",
        "reduce =  ReduceLROnPlateau(monitor='val_loss',\n",
        "                    factor=0.5,\n",
        "                    patience=2,\n",
        "                    verbose=1)\n",
        "callbacks = [checkpoint,stop]\n",
        "\n",
        "model.compile(optimizer=\"adam\",loss='categorical_crossentropy',metrics=['accuracy'])\n",
        "\n",
        "BATCH_SIZE =64\n",
        "N_EPOCHS = 300\n",
        "\n",
        "lstm = model.fit(X_train, y_train,\n",
        "          batch_size=BATCH_SIZE, shuffle=True,epochs=N_EPOCHS,callbacks=callbacks,\n",
        "          validation_data=(X_test, y_test))"
      ]
    },
    {
      "cell_type": "code",
      "execution_count": 40,
      "metadata": {
        "scrolled": true,
        "colab": {
          "base_uri": "https://localhost:8080/",
          "height": 443
        },
        "id": "nsTDLchI9I0c",
        "outputId": "669a90b2-dd8d-432e-a9fb-f04e559ab629"
      },
      "outputs": [
        {
          "output_type": "stream",
          "name": "stdout",
          "text": [
            "[1 1 1 1 1 1 1 1 1 1 1 1 1 1 1 1 1 1 1 1 1 1 1 1 1 1 1 1 1 1 1 1 1 1 1 1 1\n",
            " 1 1 1 1 1 1 1 1 1 1 1 1 1 1 1 1 1 1 1 1 1 1 1 1 1 1 1 1 1 1 1 1 2 2 2 2 2\n",
            " 2 2 2 2 2 2 2 2 2 2 2 2 2 2 2 2 2 2 2 2 2 2 2 2 2 2 2 2 2 2 2 2 2 2 2 2 2\n",
            " 2 2 2 2 2 2 2 2 2 2 2 2 2 2 2 2 2 2 2 2 2 3 3 3 3 3 3 3 3 3 3 3 3 3 3 3 3\n",
            " 3 3 3 3 3 3 3 3 3 3 3 3 3 3 3 3 3 3 3 3 3 3 3 3 3 3 3 3 3 3 3 3 3 3 3 3 3\n",
            " 3 3 3 3 3 3 3 3 3 0 0 0 0 0 0 0 0 0 0 0 0 0 0 0 0 0 0 0 0 0 0 0 0 0 0 0 0\n",
            " 0 0 0 0 0 0 0 0 0 0 0 0 0 0 0 0 0 0 0 0 0 0 0 0 0 0 0 0 0 0 0 0 0 0 0]\n"
          ]
        },
        {
          "output_type": "display_data",
          "data": {
            "text/plain": [
              "<Figure size 432x288 with 2 Axes>"
            ],
            "image/png": "[encoded data removed]"
          },
          "metadata": {}
        }
      ],
      "source": [
        "# use LSTM model to predict\n",
        "\n",
        "y_pred_ohe = model.predict(X_test)\n",
        "y_pred_labels = np.argmax(y_pred_ohe, axis=1)\n",
        "y_true_labels = np.argmax(y_test, axis=1)\n",
        "confusion_matrix = metrics.confusion_matrix(y_true=y_true_labels, y_pred=y_pred_labels)\n",
        "print(y_true_labels)\n",
        "LABELS = ['seated', 'stand','walk','iwuphill']\n",
        "\n",
        "#plt.figure(figsize=(12, 12))\n",
        "sns.set(style='whitegrid', palette='muted', font_scale=1.5)\n",
        "sns.heatmap(confusion_matrix, xticklabels=LABELS, yticklabels=LABELS, annot=True, fmt=\"d\");\n",
        "plt.title(\"Confusion matrix\")\n",
        "plt.ylabel('True label')\n",
        "plt.xlabel('Predicted label')\n",
        "plt.show();"
      ]
    },
    {
      "cell_type": "code",
      "source": [
        "predIdxs = model.predict(X_test, batch_size=BATCH_SIZE)\n",
        "predIdxs = np.argmax(predIdxs, axis=1)"
      ],
      "metadata": {
        "id": "36L7EIPbLGa0"
      },
      "execution_count": 41,
      "outputs": []
    },
    {
      "cell_type": "code",
      "source": [
        "# show a classification report\n",
        "print(classification_report(y_test.argmax(axis=1), predIdxs,\n",
        "\ttarget_names=['seated', 'stand','walk','iwuphill']))\n"
      ],
      "metadata": {
        "colab": {
          "base_uri": "https://localhost:8080/"
        },
        "id": "3wZSziZzKX2A",
        "outputId": "4c27e7ef-e23f-4617-da9c-b123f82784c1"
      },
      "execution_count": 42,
      "outputs": [
        {
          "output_type": "stream",
          "name": "stdout",
          "text": [
            "              precision    recall  f1-score   support\n",
            "\n",
            "      seated       0.98      0.97      0.98        63\n",
            "       stand       0.97      1.00      0.99        69\n",
            "        walk       0.93      0.90      0.92        63\n",
            "    iwuphill       0.94      0.95      0.94        62\n",
            "\n",
            "    accuracy                           0.96       257\n",
            "   macro avg       0.96      0.96      0.96       257\n",
            "weighted avg       0.96      0.96      0.96       257\n",
            "\n"
          ]
        }
      ]
    },
    {
      "cell_type": "code",
      "execution_count": 43,
      "metadata": {
        "colab": {
          "base_uri": "https://localhost:8080/",
          "height": 619
        },
        "id": "OaCxG9Un9I0c",
        "outputId": "96bed82c-fd24-4d11-82f2-9feedc3dd848"
      },
      "outputs": [
        {
          "output_type": "display_data",
          "data": {
            "text/plain": [
              "<Figure size 432x288 with 1 Axes>"
            ],
            "image/png": "[encoded data removed]"
          },
          "metadata": {}
        },
        {
          "output_type": "display_data",
          "data": {
            "text/plain": [
              "<Figure size 432x288 with 1 Axes>"
            ],
            "image/png": "[encoded data removed]"
          },
          "metadata": {}
        }
      ],
      "source": [
        "plt.plot(lstm.history['accuracy'])\n",
        "plt.plot(lstm.history['val_accuracy'])\n",
        "plt.title('model accuracy')\n",
        "plt.ylabel('accuracy')\n",
        "plt.xlabel('epoch')\n",
        "plt.ylim(0,1)\n",
        "plt.legend(['train', 'val'], loc='best')\n",
        "plt.show()\n",
        "\n",
        "plt.plot(lstm.history['loss'])\n",
        "plt.plot(lstm.history['val_loss'])\n",
        "plt.title('model loss')\n",
        "plt.ylabel('loss')\n",
        "plt.xlabel('epoch')\n",
        "plt.legend(['train', 'val'], loc='best')\n",
        "plt.show()"
      ]
    },
    {
      "cell_type": "markdown",
      "metadata": {
        "id": "ez0TA6im9I0d"
      },
      "source": [
        "## Save the model into .pb file"
      ]
    },
    {
      "cell_type": "code",
      "source": [
        "# Save LSTM model\n",
        "\n",
        "#output_node_name = \"Dense_2/Softmax\"\n",
        "#MODEL_LSTM = str(N_TIME_STEPS)+\"_\"+str(STEP)+\"_\"+str(N_FEATURES)+\"_\"+str(N_CLASSES)+\"_nomagnew\"\n",
        "\n",
        "#tf.train.write_graph(K.get_session().graph_def, './models/LSTM/', \\     MODEL_LSTM + '_graph.pbtxt')\n",
        "#saver = tf.train.Saver()\n",
        "#saver.save(K.get_session(), './models/LSTM/' + MODEL_LSTM + '.chkp')\n",
        "\n",
        "#freeze_graph.freeze_graph('./models/LSTM/' +MODEL_LSTM+ '_graph.pbtxt', None, \\\n",
        "#   False, './models/LSTM/' + MODEL_LSTM+ '.chkp', output_node_name, \\\n",
        "#   \"save/restore_all\", \"save/Const:0\", \\\n",
        "#    './models/LSTM/' +MODEL_LSTM + '.pb', True, \"\")"
      ],
      "metadata": {
        "id": "IE2brr6tuFHc"
      },
      "execution_count": 55,
      "outputs": []
    },
    {
      "cell_type": "markdown",
      "source": [
        "# GRU Model"
      ],
      "metadata": {
        "id": "i9nUUG5o5bZa"
      }
    },
    {
      "cell_type": "code",
      "source": [
        "from keras.layers import GRU"
      ],
      "metadata": {
        "id": "LeMwv8D95amw"
      },
      "execution_count": 44,
      "outputs": []
    },
    {
      "cell_type": "code",
      "source": [
        "# GRU model\n",
        "from keras.backend import clear_session\n",
        "filepath = 'har_model_gru.h5'\n",
        "\n",
        "clear_session()\n",
        "model = Sequential()\n",
        "model.add(Bidirectional(GRU(200, return_sequences=True,kernel_initializer='orthogonal',\n",
        "                             kernel_regularizer=l2(L2), recurrent_regularizer=l2(L2),\n",
        "                             bias_regularizer=l2(L2),name=\"LSTM_1\"),\n",
        "                             input_shape=(N_TIME_STEPS, N_FEATURES)))\n",
        "\n",
        "model.add(Flatten(name='Flatten'))\n",
        "model.add(Dense(128, activation='relu', kernel_regularizer=l2(L2), bias_regularizer=l2(L2), name=\"Dense_3\"))\n",
        "model.add(Dropout(0.2))\n",
        "model.add(Dense(N_CLASSES, activation='softmax', kernel_regularizer=l2(L2), bias_regularizer=l2(L2), name=\"Dense_4\"))\n",
        "\n",
        "\n",
        "model.summary()\n",
        "\n",
        "checkpoint = ModelCheckpoint(filepath=filepath,\n",
        "                             monitor='val_loss',\n",
        "                             verbose=1,\n",
        "                             save_best_only=True)\n",
        "stop = EarlyStopping(monitor='val_loss', patience =5,\n",
        "                      verbose=0, mode='auto', baseline=None, \n",
        "                      restore_best_weights=False)\n",
        "reduce =  ReduceLROnPlateau(monitor='val_loss',\n",
        "                    factor=0.5,\n",
        "                    patience=2,\n",
        "                    verbose=1)\n",
        "callbacks = [checkpoint,stop]\n",
        "\n",
        "model.compile(optimizer=\"adam\",loss='categorical_crossentropy',metrics=['accuracy'])\n",
        "\n",
        "BATCH_SIZE =64\n",
        "N_EPOCHS = 300\n",
        "\n",
        "lstm = model.fit(X_train, y_train,\n",
        "          batch_size=BATCH_SIZE, shuffle=True,epochs=N_EPOCHS,callbacks=callbacks,\n",
        "          validation_data=(X_test, y_test))"
      ],
      "metadata": {
        "colab": {
          "base_uri": "https://localhost:8080/"
        },
        "id": "4IYZFvH55o7E",
        "outputId": "e6adeb3c-ffd3-4d80-9388-35836f6b5171"
      },
      "execution_count": 45,
      "outputs": [
        {
          "output_type": "stream",
          "name": "stdout",
          "text": [
            "Model: \"sequential\"\n",
            "_________________________________________________________________\n",
            " Layer (type)                Output Shape              Param #   \n",
            "=================================================================\n",
            " bidirectional (Bidirectiona  (None, 5, 400)           248400    \n",
            " l)                                                              \n",
            "                                                                 \n",
            " Flatten (Flatten)           (None, 2000)              0         \n",
            "                                                                 \n",
            " Dense_3 (Dense)             (None, 128)               256128    \n",
            "                                                                 \n",
            " dropout (Dropout)           (None, 128)               0         \n",
            "                                                                 \n",
            " Dense_4 (Dense)             (None, 4)                 516       \n",
            "                                                                 \n",
            "=================================================================\n",
            "Total params: 505,044\n",
            "Trainable params: 505,044\n",
            "Non-trainable params: 0\n",
            "_________________________________________________________________\n",
            "Epoch 1/300\n",
            " 9/17 [==============>...............] - ETA: 0s - loss: 1.3231 - accuracy: 0.3698 \n",
            "Epoch 1: val_loss improved from inf to 1.11755, saving model to har_model_gru.h5\n",
            "17/17 [==============================] - 4s 52ms/step - loss: 1.2438 - accuracy: 0.4617 - val_loss: 1.1176 - val_accuracy: 0.6459\n",
            "Epoch 2/300\n",
            " 9/17 [==============>...............] - ETA: 0s - loss: 0.8480 - accuracy: 0.7899\n",
            "Epoch 2: val_loss improved from 1.11755 to 0.75990, saving model to har_model_gru.h5\n",
            "17/17 [==============================] - 0s 11ms/step - loss: 0.7513 - accuracy: 0.8089 - val_loss: 0.7599 - val_accuracy: 0.8249\n",
            "Epoch 3/300\n",
            "10/17 [================>.............] - ETA: 0s - loss: 0.4411 - accuracy: 0.8781\n",
            "Epoch 3: val_loss improved from 0.75990 to 0.54715, saving model to har_model_gru.h5\n",
            "17/17 [==============================] - 0s 11ms/step - loss: 0.3984 - accuracy: 0.8817 - val_loss: 0.5472 - val_accuracy: 0.8171\n",
            "Epoch 4/300\n",
            "17/17 [==============================] - ETA: 0s - loss: 0.2605 - accuracy: 0.9234\n",
            "Epoch 4: val_loss did not improve from 0.54715\n",
            "17/17 [==============================] - 0s 9ms/step - loss: 0.2605 - accuracy: 0.9234 - val_loss: 0.5593 - val_accuracy: 0.8366\n",
            "Epoch 5/300\n",
            " 9/17 [==============>...............] - ETA: 0s - loss: 0.2754 - accuracy: 0.9132\n",
            "Epoch 5: val_loss improved from 0.54715 to 0.32864, saving model to har_model_gru.h5\n",
            "17/17 [==============================] - 0s 11ms/step - loss: 0.2686 - accuracy: 0.9088 - val_loss: 0.3286 - val_accuracy: 0.9066\n",
            "Epoch 6/300\n",
            "10/17 [================>.............] - ETA: 0s - loss: 0.2049 - accuracy: 0.9500\n",
            "Epoch 6: val_loss improved from 0.32864 to 0.30394, saving model to har_model_gru.h5\n",
            "17/17 [==============================] - 0s 10ms/step - loss: 0.2026 - accuracy: 0.9457 - val_loss: 0.3039 - val_accuracy: 0.9339\n",
            "Epoch 7/300\n",
            "10/17 [================>.............] - ETA: 0s - loss: 0.2145 - accuracy: 0.9375\n",
            "Epoch 7: val_loss did not improve from 0.30394\n",
            "17/17 [==============================] - 0s 9ms/step - loss: 0.2131 - accuracy: 0.9399 - val_loss: 0.3198 - val_accuracy: 0.8949\n",
            "Epoch 8/300\n",
            " 9/17 [==============>...............] - ETA: 0s - loss: 0.1591 - accuracy: 0.9514\n",
            "Epoch 8: val_loss improved from 0.30394 to 0.29938, saving model to har_model_gru.h5\n",
            "17/17 [==============================] - 0s 11ms/step - loss: 0.1763 - accuracy: 0.9486 - val_loss: 0.2994 - val_accuracy: 0.9183\n",
            "Epoch 9/300\n",
            "16/17 [===========================>..] - ETA: 0s - loss: 0.1550 - accuracy: 0.9590\n",
            "Epoch 9: val_loss improved from 0.29938 to 0.27520, saving model to har_model_gru.h5\n",
            "17/17 [==============================] - 0s 12ms/step - loss: 0.1551 - accuracy: 0.9593 - val_loss: 0.2752 - val_accuracy: 0.9261\n",
            "Epoch 10/300\n",
            "13/17 [=====================>........] - ETA: 0s - loss: 0.1521 - accuracy: 0.9519\n",
            "Epoch 10: val_loss did not improve from 0.27520\n",
            "17/17 [==============================] - 0s 11ms/step - loss: 0.1523 - accuracy: 0.9534 - val_loss: 0.2897 - val_accuracy: 0.9183\n",
            "Epoch 11/300\n",
            "17/17 [==============================] - ETA: 0s - loss: 0.1523 - accuracy: 0.9573\n",
            "Epoch 11: val_loss improved from 0.27520 to 0.26487, saving model to har_model_gru.h5\n",
            "17/17 [==============================] - 0s 12ms/step - loss: 0.1523 - accuracy: 0.9573 - val_loss: 0.2649 - val_accuracy: 0.9455\n",
            "Epoch 12/300\n",
            "17/17 [==============================] - ETA: 0s - loss: 0.1204 - accuracy: 0.9641\n",
            "Epoch 12: val_loss did not improve from 0.26487\n",
            "17/17 [==============================] - 0s 9ms/step - loss: 0.1204 - accuracy: 0.9641 - val_loss: 0.2675 - val_accuracy: 0.9339\n",
            "Epoch 13/300\n",
            "10/17 [================>.............] - ETA: 0s - loss: 0.1289 - accuracy: 0.9625\n",
            "Epoch 13: val_loss improved from 0.26487 to 0.25614, saving model to har_model_gru.h5\n",
            "17/17 [==============================] - 0s 11ms/step - loss: 0.1457 - accuracy: 0.9593 - val_loss: 0.2561 - val_accuracy: 0.9261\n",
            "Epoch 14/300\n",
            "10/17 [================>.............] - ETA: 0s - loss: 0.1200 - accuracy: 0.9703\n",
            "Epoch 14: val_loss improved from 0.25614 to 0.25347, saving model to har_model_gru.h5\n",
            "17/17 [==============================] - 0s 11ms/step - loss: 0.1283 - accuracy: 0.9661 - val_loss: 0.2535 - val_accuracy: 0.9455\n",
            "Epoch 15/300\n",
            " 9/17 [==============>...............] - ETA: 0s - loss: 0.1247 - accuracy: 0.9635\n",
            "Epoch 15: val_loss did not improve from 0.25347\n",
            "17/17 [==============================] - 0s 11ms/step - loss: 0.1184 - accuracy: 0.9641 - val_loss: 0.2740 - val_accuracy: 0.9494\n",
            "Epoch 16/300\n",
            "10/17 [================>.............] - ETA: 0s - loss: 0.1287 - accuracy: 0.9547\n",
            "Epoch 16: val_loss did not improve from 0.25347\n",
            "17/17 [==============================] - 0s 9ms/step - loss: 0.1289 - accuracy: 0.9573 - val_loss: 0.2598 - val_accuracy: 0.9494\n",
            "Epoch 17/300\n",
            " 9/17 [==============>...............] - ETA: 0s - loss: 0.0998 - accuracy: 0.9740\n",
            "Epoch 17: val_loss did not improve from 0.25347\n",
            "17/17 [==============================] - 0s 9ms/step - loss: 0.1036 - accuracy: 0.9728 - val_loss: 0.2615 - val_accuracy: 0.9455\n",
            "Epoch 18/300\n",
            "10/17 [================>.............] - ETA: 0s - loss: 0.0782 - accuracy: 0.9844\n",
            "Epoch 18: val_loss did not improve from 0.25347\n",
            "17/17 [==============================] - 0s 8ms/step - loss: 0.0956 - accuracy: 0.9796 - val_loss: 0.2592 - val_accuracy: 0.9377\n",
            "Epoch 19/300\n",
            "10/17 [================>.............] - ETA: 0s - loss: 0.0794 - accuracy: 0.9703\n",
            "Epoch 19: val_loss did not improve from 0.25347\n",
            "17/17 [==============================] - 0s 8ms/step - loss: 0.0912 - accuracy: 0.9690 - val_loss: 0.2598 - val_accuracy: 0.9494\n"
          ]
        }
      ]
    },
    {
      "cell_type": "code",
      "source": [
        "# GRU model to predict\n",
        "\n",
        "y_pred_ohe = model.predict(X_test)\n",
        "y_pred_labels = np.argmax(y_pred_ohe, axis=1)\n",
        "y_true_labels = np.argmax(y_test, axis=1)\n",
        "confusion_matrix = metrics.confusion_matrix(y_true=y_true_labels, y_pred=y_pred_labels)\n",
        "print(y_true_labels)\n",
        "LABELS = ['seated', 'stand','walk','iwuphill']\n",
        "\n",
        "plt.figure(figsize=(8, 6))\n",
        "sns.set(style='whitegrid', palette='muted', font_scale=1.5)\n",
        "sns.heatmap(confusion_matrix, xticklabels=LABELS, yticklabels=LABELS, annot=True, fmt=\"d\");\n",
        "plt.title(\"Confusion matrix\")\n",
        "plt.ylabel('True label')\n",
        "plt.xlabel('Predicted label')\n",
        "plt.show();\n",
        "\n"
      ],
      "metadata": {
        "colab": {
          "base_uri": "https://localhost:8080/",
          "height": 552
        },
        "id": "vfNbdSkj5y0k",
        "outputId": "6310138d-ec17-4030-9989-b2bd78e460ee"
      },
      "execution_count": 46,
      "outputs": [
        {
          "output_type": "stream",
          "name": "stdout",
          "text": [
            "[1 1 1 1 1 1 1 1 1 1 1 1 1 1 1 1 1 1 1 1 1 1 1 1 1 1 1 1 1 1 1 1 1 1 1 1 1\n",
            " 1 1 1 1 1 1 1 1 1 1 1 1 1 1 1 1 1 1 1 1 1 1 1 1 1 1 1 1 1 1 1 1 2 2 2 2 2\n",
            " 2 2 2 2 2 2 2 2 2 2 2 2 2 2 2 2 2 2 2 2 2 2 2 2 2 2 2 2 2 2 2 2 2 2 2 2 2\n",
            " 2 2 2 2 2 2 2 2 2 2 2 2 2 2 2 2 2 2 2 2 2 3 3 3 3 3 3 3 3 3 3 3 3 3 3 3 3\n",
            " 3 3 3 3 3 3 3 3 3 3 3 3 3 3 3 3 3 3 3 3 3 3 3 3 3 3 3 3 3 3 3 3 3 3 3 3 3\n",
            " 3 3 3 3 3 3 3 3 3 0 0 0 0 0 0 0 0 0 0 0 0 0 0 0 0 0 0 0 0 0 0 0 0 0 0 0 0\n",
            " 0 0 0 0 0 0 0 0 0 0 0 0 0 0 0 0 0 0 0 0 0 0 0 0 0 0 0 0 0 0 0 0 0 0 0]\n"
          ]
        },
        {
          "output_type": "display_data",
          "data": {
            "text/plain": [
              "<Figure size 576x432 with 2 Axes>"
            ],
            "image/png": "[encoded data removed]"
          },
          "metadata": {}
        }
      ]
    },
    {
      "cell_type": "code",
      "source": [
        "predIdxs = model.predict(X_test, batch_size=BATCH_SIZE)\n",
        "predIdxs = np.argmax(predIdxs, axis=1)\n",
        "\n",
        "# show a classification report\n",
        "print(classification_report(y_test.argmax(axis=1), predIdxs,\n",
        "\ttarget_names=['seated', 'stand','walk','iwuphill']))\n",
        "\n",
        "\n"
      ],
      "metadata": {
        "colab": {
          "base_uri": "https://localhost:8080/"
        },
        "id": "NL_NREk_5328",
        "outputId": "ec2c2eac-9f98-4bf7-b100-8ebc307c5d52"
      },
      "execution_count": 47,
      "outputs": [
        {
          "output_type": "stream",
          "name": "stdout",
          "text": [
            "              precision    recall  f1-score   support\n",
            "\n",
            "      seated       0.98      0.97      0.98        63\n",
            "       stand       0.99      1.00      0.99        69\n",
            "        walk       0.92      0.89      0.90        63\n",
            "    iwuphill       0.91      0.94      0.92        62\n",
            "\n",
            "    accuracy                           0.95       257\n",
            "   macro avg       0.95      0.95      0.95       257\n",
            "weighted avg       0.95      0.95      0.95       257\n",
            "\n"
          ]
        }
      ]
    },
    {
      "cell_type": "code",
      "source": [
        "plt.plot(lstm.history['accuracy'])\n",
        "plt.plot(lstm.history['val_accuracy'])\n",
        "plt.title('model accuracy')\n",
        "plt.ylabel('accuracy')\n",
        "plt.xlabel('epoch')\n",
        "plt.ylim(0,1)\n",
        "plt.legend(['train', 'val'], loc='best')\n",
        "plt.show()\n",
        "\n",
        "plt.plot(lstm.history['loss'])\n",
        "plt.plot(lstm.history['val_loss'])\n",
        "plt.title('model loss')\n",
        "plt.ylabel('loss')\n",
        "plt.xlabel('epoch')\n",
        "plt.legend(['train', 'val'], loc='best')\n",
        "plt.show()\n",
        "\n"
      ],
      "metadata": {
        "colab": {
          "base_uri": "https://localhost:8080/",
          "height": 619
        },
        "id": "iUbge0eg6BYr",
        "outputId": "42360654-6374-41e3-b2be-4d5b14b11abe"
      },
      "execution_count": 48,
      "outputs": [
        {
          "output_type": "display_data",
          "data": {
            "text/plain": [
              "<Figure size 432x288 with 1 Axes>"
            ],
            "image/png": "[encoded data removed]"
          },
          "metadata": {}
        },
        {
          "output_type": "display_data",
          "data": {
            "text/plain": [
              "<Figure size 432x288 with 1 Axes>"
            ],
            "image/png": "[encoded data removed]"
          },
          "metadata": {}
        }
      ]
    },
    {
      "cell_type": "markdown",
      "source": [
        "RNN Model"
      ],
      "metadata": {
        "id": "pldt0IlV6LMY"
      }
    },
    {
      "cell_type": "code",
      "source": [
        "from keras.layers import SimpleRNN"
      ],
      "metadata": {
        "id": "ZmgQbt1k6eCY"
      },
      "execution_count": 49,
      "outputs": []
    },
    {
      "cell_type": "code",
      "source": [
        "# Simple RNN model\n",
        "from keras.backend import clear_session\n",
        "filepath = 'har_model_rnn.h5'\n",
        "\n",
        "clear_session()\n",
        "model = Sequential()\n",
        "\n",
        "model.add(SimpleRNN(200,input_shape=(N_TIME_STEPS, N_FEATURES), return_sequences=True,kernel_initializer='orthogonal',\n",
        "                             kernel_regularizer=l2(L2), recurrent_regularizer=l2(L2),\n",
        "                             bias_regularizer=l2(L2),))\n",
        "\n",
        "\n",
        "model.add(Flatten(name='Flatten'))\n",
        "model.add(Dense(128, activation='relu', kernel_regularizer=l2(L2), bias_regularizer=l2(L2), name=\"Dense_3\"))\n",
        "model.add(Dropout(0.2))\n",
        "model.add(Dense(N_CLASSES, activation='softmax', kernel_regularizer=l2(L2), bias_regularizer=l2(L2), name=\"Dense_4\"))\n",
        "\n",
        "\n",
        "model.summary()\n",
        "\n",
        "checkpoint = ModelCheckpoint(filepath=filepath,\n",
        "                             monitor='val_loss',\n",
        "                             verbose=1,\n",
        "                             save_best_only=True)\n",
        "stop = EarlyStopping(monitor='val_loss', patience =5,\n",
        "                      verbose=0, mode='auto', baseline=None, \n",
        "                      restore_best_weights=False)\n",
        "reduce =  ReduceLROnPlateau(monitor='val_loss',\n",
        "                    factor=0.5,\n",
        "                    patience=2,\n",
        "                    verbose=1)\n",
        "callbacks = [checkpoint,stop]\n",
        "\n",
        "model.compile(optimizer=\"adam\",loss='categorical_crossentropy',metrics=['accuracy'])\n",
        "\n",
        "BATCH_SIZE =64\n",
        "N_EPOCHS = 300\n",
        "\n",
        "lstm = model.fit(X_train, y_train,\n",
        "          batch_size=BATCH_SIZE, shuffle=True,epochs=N_EPOCHS,callbacks=callbacks,\n",
        "          validation_data=(X_test, y_test))"
      ],
      "metadata": {
        "colab": {
          "base_uri": "https://localhost:8080/"
        },
        "id": "V2SzlYwV6i2d",
        "outputId": "0b2cf6f3-f13d-4dc8-b5c0-68a480494729"
      },
      "execution_count": 50,
      "outputs": [
        {
          "output_type": "stream",
          "name": "stdout",
          "text": [
            "Model: \"sequential\"\n",
            "_________________________________________________________________\n",
            " Layer (type)                Output Shape              Param #   \n",
            "=================================================================\n",
            " simple_rnn (SimpleRNN)      (None, 5, 200)            41200     \n",
            "                                                                 \n",
            " Flatten (Flatten)           (None, 1000)              0         \n",
            "                                                                 \n",
            " Dense_3 (Dense)             (None, 128)               128128    \n",
            "                                                                 \n",
            " dropout (Dropout)           (None, 128)               0         \n",
            "                                                                 \n",
            " Dense_4 (Dense)             (None, 4)                 516       \n",
            "                                                                 \n",
            "=================================================================\n",
            "Total params: 169,844\n",
            "Trainable params: 169,844\n",
            "Non-trainable params: 0\n",
            "_________________________________________________________________\n",
            "Epoch 1/300\n",
            "16/17 [===========================>..] - ETA: 0s - loss: 1.3949 - accuracy: 0.3369\n",
            "Epoch 1: val_loss improved from inf to 1.29164, saving model to har_model_rnn.h5\n",
            "17/17 [==============================] - 1s 25ms/step - loss: 1.3929 - accuracy: 0.3395 - val_loss: 1.2916 - val_accuracy: 0.4553\n",
            "Epoch 2/300\n",
            "17/17 [==============================] - ETA: 0s - loss: 1.1020 - accuracy: 0.5626\n",
            "Epoch 2: val_loss improved from 1.29164 to 1.14030, saving model to har_model_rnn.h5\n",
            "17/17 [==============================] - 0s 12ms/step - loss: 1.1020 - accuracy: 0.5626 - val_loss: 1.1403 - val_accuracy: 0.5019\n",
            "Epoch 3/300\n",
            "15/17 [=========================>....] - ETA: 0s - loss: 0.8477 - accuracy: 0.7104\n",
            "Epoch 3: val_loss improved from 1.14030 to 0.88012, saving model to har_model_rnn.h5\n",
            "17/17 [==============================] - 0s 12ms/step - loss: 0.8370 - accuracy: 0.7148 - val_loss: 0.8801 - val_accuracy: 0.6498\n",
            "Epoch 4/300\n",
            "17/17 [==============================] - ETA: 0s - loss: 0.6196 - accuracy: 0.8080\n",
            "Epoch 4: val_loss improved from 0.88012 to 0.69958, saving model to har_model_rnn.h5\n",
            "17/17 [==============================] - 0s 27ms/step - loss: 0.6196 - accuracy: 0.8080 - val_loss: 0.6996 - val_accuracy: 0.7782\n",
            "Epoch 5/300\n",
            "17/17 [==============================] - ETA: 0s - loss: 0.4669 - accuracy: 0.8419\n",
            "Epoch 5: val_loss improved from 0.69958 to 0.66769, saving model to har_model_rnn.h5\n",
            "17/17 [==============================] - 0s 26ms/step - loss: 0.4669 - accuracy: 0.8419 - val_loss: 0.6677 - val_accuracy: 0.7354\n",
            "Epoch 6/300\n",
            "15/17 [=========================>....] - ETA: 0s - loss: 0.4730 - accuracy: 0.8208\n",
            "Epoch 6: val_loss improved from 0.66769 to 0.59310, saving model to har_model_rnn.h5\n",
            "17/17 [==============================] - 0s 28ms/step - loss: 0.4695 - accuracy: 0.8244 - val_loss: 0.5931 - val_accuracy: 0.7782\n",
            "Epoch 7/300\n",
            "16/17 [===========================>..] - ETA: 0s - loss: 0.4107 - accuracy: 0.8535\n",
            "Epoch 7: val_loss improved from 0.59310 to 0.57801, saving model to har_model_rnn.h5\n",
            "17/17 [==============================] - 0s 25ms/step - loss: 0.4094 - accuracy: 0.8545 - val_loss: 0.5780 - val_accuracy: 0.7782\n",
            "Epoch 8/300\n",
            "15/17 [=========================>....] - ETA: 0s - loss: 0.3191 - accuracy: 0.8927\n",
            "Epoch 8: val_loss improved from 0.57801 to 0.44986, saving model to har_model_rnn.h5\n",
            "17/17 [==============================] - 0s 25ms/step - loss: 0.3130 - accuracy: 0.8962 - val_loss: 0.4499 - val_accuracy: 0.8366\n",
            "Epoch 9/300\n",
            "16/17 [===========================>..] - ETA: 0s - loss: 0.2460 - accuracy: 0.9297\n",
            "Epoch 9: val_loss improved from 0.44986 to 0.42206, saving model to har_model_rnn.h5\n",
            "17/17 [==============================] - 0s 22ms/step - loss: 0.2465 - accuracy: 0.9292 - val_loss: 0.4221 - val_accuracy: 0.8405\n",
            "Epoch 10/300\n",
            "14/17 [=======================>......] - ETA: 0s - loss: 0.2248 - accuracy: 0.9286\n",
            "Epoch 10: val_loss improved from 0.42206 to 0.40933, saving model to har_model_rnn.h5\n",
            "17/17 [==============================] - 0s 29ms/step - loss: 0.2195 - accuracy: 0.9311 - val_loss: 0.4093 - val_accuracy: 0.8366\n",
            "Epoch 11/300\n",
            "17/17 [==============================] - ETA: 0s - loss: 0.2187 - accuracy: 0.9253\n",
            "Epoch 11: val_loss did not improve from 0.40933\n",
            "17/17 [==============================] - 0s 18ms/step - loss: 0.2187 - accuracy: 0.9253 - val_loss: 0.4386 - val_accuracy: 0.8210\n",
            "Epoch 12/300\n",
            "17/17 [==============================] - ETA: 0s - loss: 0.2001 - accuracy: 0.9311\n",
            "Epoch 12: val_loss did not improve from 0.40933\n",
            "17/17 [==============================] - 0s 16ms/step - loss: 0.2001 - accuracy: 0.9311 - val_loss: 0.4549 - val_accuracy: 0.8171\n",
            "Epoch 13/300\n",
            "15/17 [=========================>....] - ETA: 0s - loss: 0.2813 - accuracy: 0.9000\n",
            "Epoch 13: val_loss did not improve from 0.40933\n",
            "17/17 [==============================] - 0s 26ms/step - loss: 0.2739 - accuracy: 0.9030 - val_loss: 0.4119 - val_accuracy: 0.8366\n",
            "Epoch 14/300\n",
            "13/17 [=====================>........] - ETA: 0s - loss: 0.1752 - accuracy: 0.9483\n",
            "Epoch 14: val_loss improved from 0.40933 to 0.39016, saving model to har_model_rnn.h5\n",
            "17/17 [==============================] - 0s 16ms/step - loss: 0.1669 - accuracy: 0.9505 - val_loss: 0.3902 - val_accuracy: 0.8599\n",
            "Epoch 15/300\n",
            "15/17 [=========================>....] - ETA: 0s - loss: 0.1371 - accuracy: 0.9563\n",
            "Epoch 15: val_loss did not improve from 0.39016\n",
            "17/17 [==============================] - 0s 26ms/step - loss: 0.1383 - accuracy: 0.9544 - val_loss: 0.4003 - val_accuracy: 0.8599\n",
            "Epoch 16/300\n",
            "17/17 [==============================] - ETA: 0s - loss: 0.1472 - accuracy: 0.9486\n",
            "Epoch 16: val_loss improved from 0.39016 to 0.32868, saving model to har_model_rnn.h5\n",
            "17/17 [==============================] - 0s 27ms/step - loss: 0.1472 - accuracy: 0.9486 - val_loss: 0.3287 - val_accuracy: 0.9339\n",
            "Epoch 17/300\n",
            "16/17 [===========================>..] - ETA: 0s - loss: 0.2005 - accuracy: 0.9287\n",
            "Epoch 17: val_loss did not improve from 0.32868\n",
            "17/17 [==============================] - 0s 18ms/step - loss: 0.1998 - accuracy: 0.9292 - val_loss: 0.3563 - val_accuracy: 0.9066\n",
            "Epoch 18/300\n",
            "14/17 [=======================>......] - ETA: 0s - loss: 0.1973 - accuracy: 0.9353\n",
            "Epoch 18: val_loss did not improve from 0.32868\n",
            "17/17 [==============================] - 0s 19ms/step - loss: 0.1913 - accuracy: 0.9370 - val_loss: 0.4163 - val_accuracy: 0.8560\n",
            "Epoch 19/300\n",
            "16/17 [===========================>..] - ETA: 0s - loss: 0.3323 - accuracy: 0.8740\n",
            "Epoch 19: val_loss did not improve from 0.32868\n",
            "17/17 [==============================] - 0s 22ms/step - loss: 0.3306 - accuracy: 0.8749 - val_loss: 0.5470 - val_accuracy: 0.8016\n",
            "Epoch 20/300\n",
            "16/17 [===========================>..] - ETA: 0s - loss: 0.1839 - accuracy: 0.9346\n",
            "Epoch 20: val_loss improved from 0.32868 to 0.30083, saving model to har_model_rnn.h5\n",
            "17/17 [==============================] - 0s 27ms/step - loss: 0.1842 - accuracy: 0.9340 - val_loss: 0.3008 - val_accuracy: 0.9105\n",
            "Epoch 21/300\n",
            "15/17 [=========================>....] - ETA: 0s - loss: 0.1336 - accuracy: 0.9635\n",
            "Epoch 21: val_loss improved from 0.30083 to 0.29662, saving model to har_model_rnn.h5\n",
            "17/17 [==============================] - 0s 12ms/step - loss: 0.1280 - accuracy: 0.9661 - val_loss: 0.2966 - val_accuracy: 0.9183\n",
            "Epoch 22/300\n",
            "17/17 [==============================] - ETA: 0s - loss: 0.1328 - accuracy: 0.9573\n",
            "Epoch 22: val_loss did not improve from 0.29662\n",
            "17/17 [==============================] - 0s 9ms/step - loss: 0.1328 - accuracy: 0.9573 - val_loss: 0.3242 - val_accuracy: 0.8872\n",
            "Epoch 23/300\n",
            "17/17 [==============================] - ETA: 0s - loss: 0.1121 - accuracy: 0.9680\n",
            "Epoch 23: val_loss improved from 0.29662 to 0.26991, saving model to har_model_rnn.h5\n",
            "17/17 [==============================] - 0s 10ms/step - loss: 0.1121 - accuracy: 0.9680 - val_loss: 0.2699 - val_accuracy: 0.9261\n",
            "Epoch 24/300\n",
            "15/17 [=========================>....] - ETA: 0s - loss: 0.1100 - accuracy: 0.9677\n",
            "Epoch 24: val_loss did not improve from 0.26991\n",
            "17/17 [==============================] - 0s 10ms/step - loss: 0.1093 - accuracy: 0.9680 - val_loss: 0.2863 - val_accuracy: 0.9105\n",
            "Epoch 25/300\n",
            "17/17 [==============================] - ETA: 0s - loss: 0.1312 - accuracy: 0.9564\n",
            "Epoch 25: val_loss improved from 0.26991 to 0.26193, saving model to har_model_rnn.h5\n",
            "17/17 [==============================] - 0s 11ms/step - loss: 0.1312 - accuracy: 0.9564 - val_loss: 0.2619 - val_accuracy: 0.9494\n",
            "Epoch 26/300\n",
            "16/17 [===========================>..] - ETA: 0s - loss: 0.0840 - accuracy: 0.9775\n",
            "Epoch 26: val_loss did not improve from 0.26193\n",
            "17/17 [==============================] - 0s 9ms/step - loss: 0.0836 - accuracy: 0.9777 - val_loss: 0.2818 - val_accuracy: 0.9222\n",
            "Epoch 27/300\n",
            "17/17 [==============================] - ETA: 0s - loss: 0.0695 - accuracy: 0.9816\n",
            "Epoch 27: val_loss did not improve from 0.26193\n",
            "17/17 [==============================] - 0s 9ms/step - loss: 0.0695 - accuracy: 0.9816 - val_loss: 0.2822 - val_accuracy: 0.9261\n",
            "Epoch 28/300\n",
            "17/17 [==============================] - ETA: 0s - loss: 0.0699 - accuracy: 0.9738\n",
            "Epoch 28: val_loss did not improve from 0.26193\n",
            "17/17 [==============================] - 0s 9ms/step - loss: 0.0699 - accuracy: 0.9738 - val_loss: 0.2801 - val_accuracy: 0.9377\n",
            "Epoch 29/300\n",
            "16/17 [===========================>..] - ETA: 0s - loss: 0.0932 - accuracy: 0.9590\n",
            "Epoch 29: val_loss did not improve from 0.26193\n",
            "17/17 [==============================] - 0s 10ms/step - loss: 0.0943 - accuracy: 0.9583 - val_loss: 0.3479 - val_accuracy: 0.8949\n",
            "Epoch 30/300\n",
            "16/17 [===========================>..] - ETA: 0s - loss: 0.1147 - accuracy: 0.9639\n",
            "Epoch 30: val_loss did not improve from 0.26193\n",
            "17/17 [==============================] - 0s 10ms/step - loss: 0.1141 - accuracy: 0.9641 - val_loss: 0.3521 - val_accuracy: 0.9261\n"
          ]
        }
      ]
    },
    {
      "cell_type": "code",
      "source": [
        "# RNN model to predict\n",
        "\n",
        "y_pred_ohe = model.predict(X_test)\n",
        "y_pred_labels = np.argmax(y_pred_ohe, axis=1)\n",
        "y_true_labels = np.argmax(y_test, axis=1)\n",
        "confusion_matrix = metrics.confusion_matrix(y_true=y_true_labels, y_pred=y_pred_labels)\n",
        "print(y_true_labels)\n",
        "LABELS = ['seated', 'stand','walk','iwuphill']\n",
        "\n",
        "plt.figure(figsize=(8, 6))\n",
        "sns.set(style='whitegrid', palette='muted', font_scale=1.5)\n",
        "sns.heatmap(confusion_matrix, xticklabels=LABELS, yticklabels=LABELS, annot=True, fmt=\"d\");\n",
        "plt.title(\"Confusion matrix\")\n",
        "plt.ylabel('True label')\n",
        "plt.xlabel('Predicted label')\n",
        "plt.show();\n"
      ],
      "metadata": {
        "colab": {
          "base_uri": "https://localhost:8080/",
          "height": 552
        },
        "id": "-H777yvz6w5g",
        "outputId": "307a27ce-3fdf-4774-8de4-90901767490a"
      },
      "execution_count": 51,
      "outputs": [
        {
          "output_type": "stream",
          "name": "stdout",
          "text": [
            "[1 1 1 1 1 1 1 1 1 1 1 1 1 1 1 1 1 1 1 1 1 1 1 1 1 1 1 1 1 1 1 1 1 1 1 1 1\n",
            " 1 1 1 1 1 1 1 1 1 1 1 1 1 1 1 1 1 1 1 1 1 1 1 1 1 1 1 1 1 1 1 1 2 2 2 2 2\n",
            " 2 2 2 2 2 2 2 2 2 2 2 2 2 2 2 2 2 2 2 2 2 2 2 2 2 2 2 2 2 2 2 2 2 2 2 2 2\n",
            " 2 2 2 2 2 2 2 2 2 2 2 2 2 2 2 2 2 2 2 2 2 3 3 3 3 3 3 3 3 3 3 3 3 3 3 3 3\n",
            " 3 3 3 3 3 3 3 3 3 3 3 3 3 3 3 3 3 3 3 3 3 3 3 3 3 3 3 3 3 3 3 3 3 3 3 3 3\n",
            " 3 3 3 3 3 3 3 3 3 0 0 0 0 0 0 0 0 0 0 0 0 0 0 0 0 0 0 0 0 0 0 0 0 0 0 0 0\n",
            " 0 0 0 0 0 0 0 0 0 0 0 0 0 0 0 0 0 0 0 0 0 0 0 0 0 0 0 0 0 0 0 0 0 0 0]\n"
          ]
        },
        {
          "output_type": "display_data",
          "data": {
            "text/plain": [
              "<Figure size 576x432 with 2 Axes>"
            ],
            "image/png": "[encoded data removed]"
          },
          "metadata": {}
        }
      ]
    },
    {
      "cell_type": "code",
      "source": [
        "predIdxs = model.predict(X_test, batch_size=BATCH_SIZE)\n",
        "predIdxs = np.argmax(predIdxs, axis=1)\n",
        "\n",
        "# show a classification report\n",
        "print(classification_report(y_test.argmax(axis=1), predIdxs,\n",
        "\ttarget_names=['seated', 'stand','walk','iwuphill']))"
      ],
      "metadata": {
        "colab": {
          "base_uri": "https://localhost:8080/"
        },
        "id": "hcQc51bA-rNy",
        "outputId": "658db767-22d5-485b-ddcd-19af8e67340c"
      },
      "execution_count": 52,
      "outputs": [
        {
          "output_type": "stream",
          "name": "stdout",
          "text": [
            "              precision    recall  f1-score   support\n",
            "\n",
            "      seated       0.98      0.94      0.96        63\n",
            "       stand       0.95      1.00      0.97        69\n",
            "        walk       0.86      0.90      0.88        63\n",
            "    iwuphill       0.91      0.85      0.88        62\n",
            "\n",
            "    accuracy                           0.93       257\n",
            "   macro avg       0.93      0.92      0.92       257\n",
            "weighted avg       0.93      0.93      0.93       257\n",
            "\n"
          ]
        }
      ]
    },
    {
      "cell_type": "code",
      "source": [
        "plt.plot(lstm.history['accuracy'])\n",
        "plt.plot(lstm.history['val_accuracy'])\n",
        "plt.title('model accuracy')\n",
        "plt.ylabel('accuracy')\n",
        "plt.xlabel('epoch')\n",
        "plt.ylim(0,1)\n",
        "plt.legend(['train', 'val'], loc='best')\n",
        "plt.show()\n",
        "\n",
        "plt.plot(lstm.history['loss'])\n",
        "plt.plot(lstm.history['val_loss'])\n",
        "plt.title('model loss')\n",
        "plt.ylabel('loss')\n",
        "plt.xlabel('epoch')\n",
        "plt.legend(['train', 'val'], loc='best')\n",
        "plt.show()\n",
        "\n"
      ],
      "metadata": {
        "colab": {
          "base_uri": "https://localhost:8080/",
          "height": 619
        },
        "id": "mm5C3No96KXA",
        "outputId": "4d2af5ad-b6f8-45b6-accc-33fd254bfca3"
      },
      "execution_count": 53,
      "outputs": [
        {
          "output_type": "display_data",
          "data": {
            "text/plain": [
              "<Figure size 432x288 with 1 Axes>"
            ],
            "image/png": "[encoded data removed]"
          },
          "metadata": {}
        },
        {
          "output_type": "display_data",
          "data": {
            "text/plain": [
              "<Figure size 432x288 with 1 Axes>"
            ],
            "image/png": "[encoded data removed]"
          },
          "metadata": {}
        }
      ]
    }
  ],
  "metadata": {
    "kernelspec": {
      "display_name": "Python 3",
      "language": "python",
      "name": "python3"
    },
    "language_info": {
      "codemirror_mode": {
        "name": "ipython",
        "version": 3
      },
      "file_extension": ".py",
      "mimetype": "text/x-python",
      "name": "python",
      "nbconvert_exporter": "python",
      "pygments_lexer": "ipython3",
      "version": "3.7.6"
    },
    "colab": {
      "provenance": [],
      "collapsed_sections": [],
      "include_colab_link": true
    },
    "accelerator": "GPU",
    "gpuClass": "standard"
  },
  "nbformat": 4,
  "nbformat_minor": 0
}
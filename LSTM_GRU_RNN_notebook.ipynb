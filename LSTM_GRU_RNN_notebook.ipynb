{
  "cells": [
    {
      "cell_type": "markdown",
      "metadata": {
        "id": "view-in-github",
        "colab_type": "text"
      },
      "source": [
        "<a href=\"https://colab.research.google.com/github/JonathanCristovao/LSTM_GRU_RNN_human-activity-recognition/blob/main/LSTM_GRU_RNN_notebook.ipynb\" target=\"_parent\"><img src=\"https://colab.research.google.com/assets/colab-badge.svg\" alt=\"Open In Colab\"/></a>"
      ]
    },
    {
      "cell_type": "markdown",
      "source": [
        "# This notebook was run on google colab"
      ],
      "metadata": {
        "id": "16WhqkwcseIu"
      }
    },
    {
      "cell_type": "code",
      "source": [
        "from google.colab import drive\n",
        "drive.mount('/content/drive')"
      ],
      "metadata": {
        "colab": {
          "base_uri": "https://localhost:8080/"
        },
        "id": "_pcRQvKt9r4Q",
        "outputId": "3e40c49a-3259-44fd-8c1d-05ad7cd34b85"
      },
      "execution_count": 59,
      "outputs": [
        {
          "output_type": "stream",
          "name": "stdout",
          "text": [
            "Drive already mounted at /content/drive; to attempt to forcibly remount, call drive.mount(\"/content/drive\", force_remount=True).\n"
          ]
        }
      ]
    },
    {
      "cell_type": "markdown",
      "metadata": {
        "id": "csFMJZEe9I0I"
      },
      "source": [
        "# Import Library"
      ]
    },
    {
      "cell_type": "code",
      "source": [
        "!pip install keras_self_attention"
      ],
      "metadata": {
        "colab": {
          "base_uri": "https://localhost:8080/"
        },
        "id": "Ai6fqg4x9rM9",
        "outputId": "d5c6673a-6972-4732-b317-03f24bf19818"
      },
      "execution_count": 60,
      "outputs": [
        {
          "output_type": "stream",
          "name": "stdout",
          "text": [
            "Looking in indexes: https://pypi.org/simple, https://us-python.pkg.dev/colab-wheels/public/simple/\n",
            "Requirement already satisfied: keras_self_attention in /usr/local/lib/python3.7/dist-packages (0.51.0)\n",
            "Requirement already satisfied: numpy in /usr/local/lib/python3.7/dist-packages (from keras_self_attention) (1.21.6)\n"
          ]
        }
      ]
    },
    {
      "cell_type": "code",
      "source": [
        "import pandas as pd\n",
        "import numpy as np\n",
        "import matplotlib.pyplot as plt\n",
        "import seaborn as sns\n",
        "import tensorflow as tf\n",
        "from scipy import stats\n",
        "from sklearn import metrics\n",
        "from sklearn.metrics import classification_report\n",
        "import glob\n",
        "import csv\n",
        "import os\n",
        "%matplotlib inline\n",
        "from keras_self_attention import SeqSelfAttention\n",
        "import warnings\n",
        "warnings.filterwarnings('ignore')"
      ],
      "metadata": {
        "id": "_52yqQ6hc560"
      },
      "execution_count": 61,
      "outputs": []
    },
    {
      "cell_type": "markdown",
      "source": [
        "## The dataset used in this notebook can be downloaded here:\n",
        "[Click here to download the Dataset](https://www.kaggle.com/datasets/jonathansilva2020/dataset-for-human-activity-recognition-har)\n",
        "\n"
      ],
      "metadata": {
        "id": "1-ak4Az0j11p"
      }
    },
    {
      "cell_type": "code",
      "execution_count": 62,
      "metadata": {
        "id": "_CZofzgJ9I0K"
      },
      "outputs": [],
      "source": [
        "interesting_dir = \"/content/drive/MyDrive/dataset_artigo_sensores_new\"\n",
        "interesting_labels = ['seated','stand','walk','iw_uphill']\n",
        "save_filename = \"activity\""
      ]
    },
    {
      "cell_type": "markdown",
      "metadata": {
        "id": "0tddFIoe9I0M"
      },
      "source": [
        "## Concate and label the raw data  "
      ]
    },
    {
      "cell_type": "code",
      "execution_count": 63,
      "metadata": {
        "id": "FXYz5psi9I0N"
      },
      "outputs": [],
      "source": [
        "def data_concate_label(path,label):\n",
        "    all_files1 = glob.glob(path + \"/*.csv\")\n",
        "    \n",
        "    li = []\n",
        "\n",
        "    for filename in all_files1:\n",
        "        df = pd.read_csv(filename, index_col=None, header=0)\n",
        "        \n",
        "        if 'label' in df.columns:\n",
        "            pass\n",
        "        else:df['label'] = str(label)\n",
        "        li.append(df)\n",
        "    frame = pd.concat(li, axis=0, ignore_index=True)\n",
        "    if len(df.columns) == 8 :\n",
        "        new_header =['date','time','ID_S','Q_I','Q_J','Q_K','Q_R','label']\n",
        "    \n",
        "    else :\n",
        "       \n",
        "        new_header =['date','time','ID_S','Q_I','Q_J','Q_K','Q_R','label']\n",
        "\n",
        "    frame = frame[:16000]\n",
        "    \n",
        "    print(frame.shape)\n",
        "    print(len(df.columns))\n",
        "    frame.to_csv(\"/content/drive/MyDrive/data/novo_\"+str(label)+\".csv\",index = False,header=new_header)\n",
        "    "
      ]
    },
    {
      "cell_type": "code",
      "source": [
        "path1 = \"/content/drive/MyDrive/dataset_artigo_sensores_new/seated\"\n",
        "label1 = \"seated\"\n",
        "path2 = \"/content/drive/MyDrive/dataset_artigo_sensores_new/stand\"\n",
        "label2 = \"stand\"\n",
        "path3 = \"/content/drive/MyDrive/dataset_artigo_sensores_new/walking\"\n",
        "label3 = \"walk\"\n",
        "path4 = \"/content/drive/MyDrive/dataset_artigo_sensores_new/iwuphill\"\n",
        "label4 = \"iw_uphill\"\n",
        "data_concate_label(path1,label1)\n",
        "data_concate_label(path2,label2)\n",
        "data_concate_label(path3,label3)\n",
        "data_concate_label(path4,label4)"
      ],
      "metadata": {
        "colab": {
          "base_uri": "https://localhost:8080/"
        },
        "id": "4N7NLf7KyLjs",
        "outputId": "a63adcf6-310f-4aad-a604-7adc8db55abc"
      },
      "execution_count": 64,
      "outputs": [
        {
          "output_type": "stream",
          "name": "stdout",
          "text": [
            "(7267, 8)\n",
            "8\n",
            "(6110, 8)\n",
            "8\n",
            "(4980, 8)\n",
            "8\n",
            "(2656, 8)\n",
            "8\n"
          ]
        }
      ]
    },
    {
      "cell_type": "markdown",
      "metadata": {
        "id": "TGWpUbXX9I0P"
      },
      "source": [
        "## Concate all data into one .csv file"
      ]
    },
    {
      "cell_type": "code",
      "execution_count": 65,
      "metadata": {
        "scrolled": false,
        "colab": {
          "base_uri": "https://localhost:8080/",
          "height": 224
        },
        "id": "3jfl5sIf9I0Q",
        "outputId": "8dd6b808-7dae-4347-c4a2-8d15dd87f766"
      },
      "outputs": [
        {
          "output_type": "stream",
          "name": "stdout",
          "text": [
            "8\n"
          ]
        },
        {
          "output_type": "execute_result",
          "data": {
            "text/plain": [
              "   ID_S   Q_I   Q_J   Q_K   Q_R   label\n",
              "0     2  0.09  0.02  0.79  0.61  seated\n",
              "1     4  0.02 -0.04  0.73  0.68  seated\n",
              "2     1  0.27  0.58 -0.09  0.77  seated\n",
              "3     3  0.29  0.53 -0.44  0.66  seated\n",
              "4     2  0.09  0.02  0.79  0.61  seated"
            ],
            "text/html": [
              "\n",
              "  <div id=\"df-0e1277f3-7b98-4b24-a3f9-d456d86c0360\">\n",
              "    <div class=\"colab-df-container\">\n",
              "      <div>\n",
              "<style scoped>\n",
              "    .dataframe tbody tr th:only-of-type {\n",
              "        vertical-align: middle;\n",
              "    }\n",
              "\n",
              "    .dataframe tbody tr th {\n",
              "        vertical-align: top;\n",
              "    }\n",
              "\n",
              "    .dataframe thead th {\n",
              "        text-align: right;\n",
              "    }\n",
              "</style>\n",
              "<table border=\"1\" class=\"dataframe\">\n",
              "  <thead>\n",
              "    <tr style=\"text-align: right;\">\n",
              "      <th></th>\n",
              "      <th>ID_S</th>\n",
              "      <th>Q_I</th>\n",
              "      <th>Q_J</th>\n",
              "      <th>Q_K</th>\n",
              "      <th>Q_R</th>\n",
              "      <th>label</th>\n",
              "    </tr>\n",
              "  </thead>\n",
              "  <tbody>\n",
              "    <tr>\n",
              "      <th>0</th>\n",
              "      <td>2</td>\n",
              "      <td>0.09</td>\n",
              "      <td>0.02</td>\n",
              "      <td>0.79</td>\n",
              "      <td>0.61</td>\n",
              "      <td>seated</td>\n",
              "    </tr>\n",
              "    <tr>\n",
              "      <th>1</th>\n",
              "      <td>4</td>\n",
              "      <td>0.02</td>\n",
              "      <td>-0.04</td>\n",
              "      <td>0.73</td>\n",
              "      <td>0.68</td>\n",
              "      <td>seated</td>\n",
              "    </tr>\n",
              "    <tr>\n",
              "      <th>2</th>\n",
              "      <td>1</td>\n",
              "      <td>0.27</td>\n",
              "      <td>0.58</td>\n",
              "      <td>-0.09</td>\n",
              "      <td>0.77</td>\n",
              "      <td>seated</td>\n",
              "    </tr>\n",
              "    <tr>\n",
              "      <th>3</th>\n",
              "      <td>3</td>\n",
              "      <td>0.29</td>\n",
              "      <td>0.53</td>\n",
              "      <td>-0.44</td>\n",
              "      <td>0.66</td>\n",
              "      <td>seated</td>\n",
              "    </tr>\n",
              "    <tr>\n",
              "      <th>4</th>\n",
              "      <td>2</td>\n",
              "      <td>0.09</td>\n",
              "      <td>0.02</td>\n",
              "      <td>0.79</td>\n",
              "      <td>0.61</td>\n",
              "      <td>seated</td>\n",
              "    </tr>\n",
              "  </tbody>\n",
              "</table>\n",
              "</div>\n",
              "      <button class=\"colab-df-convert\" onclick=\"convertToInteractive('df-0e1277f3-7b98-4b24-a3f9-d456d86c0360')\"\n",
              "              title=\"Convert this dataframe to an interactive table.\"\n",
              "              style=\"display:none;\">\n",
              "        \n",
              "  <svg xmlns=\"http://www.w3.org/2000/svg\" height=\"24px\"viewBox=\"0 0 24 24\"\n",
              "       width=\"24px\">\n",
              "    <path d=\"M0 0h24v24H0V0z\" fill=\"none\"/>\n",
              "    <path d=\"M18.56 5.44l.94 2.06.94-2.06 2.06-.94-2.06-.94-.94-2.06-.94 2.06-2.06.94zm-11 1L8.5 8.5l.94-2.06 2.06-.94-2.06-.94L8.5 2.5l-.94 2.06-2.06.94zm10 10l.94 2.06.94-2.06 2.06-.94-2.06-.94-.94-2.06-.94 2.06-2.06.94z\"/><path d=\"M17.41 7.96l-1.37-1.37c-.4-.4-.92-.59-1.43-.59-.52 0-1.04.2-1.43.59L10.3 9.45l-7.72 7.72c-.78.78-.78 2.05 0 2.83L4 21.41c.39.39.9.59 1.41.59.51 0 1.02-.2 1.41-.59l7.78-7.78 2.81-2.81c.8-.78.8-2.07 0-2.86zM5.41 20L4 18.59l7.72-7.72 1.47 1.35L5.41 20z\"/>\n",
              "  </svg>\n",
              "      </button>\n",
              "      \n",
              "  <style>\n",
              "    .colab-df-container {\n",
              "      display:flex;\n",
              "      flex-wrap:wrap;\n",
              "      gap: 12px;\n",
              "    }\n",
              "\n",
              "    .colab-df-convert {\n",
              "      background-color: #E8F0FE;\n",
              "      border: none;\n",
              "      border-radius: 50%;\n",
              "      cursor: pointer;\n",
              "      display: none;\n",
              "      fill: #1967D2;\n",
              "      height: 32px;\n",
              "      padding: 0 0 0 0;\n",
              "      width: 32px;\n",
              "    }\n",
              "\n",
              "    .colab-df-convert:hover {\n",
              "      background-color: #E2EBFA;\n",
              "      box-shadow: 0px 1px 2px rgba(60, 64, 67, 0.3), 0px 1px 3px 1px rgba(60, 64, 67, 0.15);\n",
              "      fill: #174EA6;\n",
              "    }\n",
              "\n",
              "    [theme=dark] .colab-df-convert {\n",
              "      background-color: #3B4455;\n",
              "      fill: #D2E3FC;\n",
              "    }\n",
              "\n",
              "    [theme=dark] .colab-df-convert:hover {\n",
              "      background-color: #434B5C;\n",
              "      box-shadow: 0px 1px 3px 1px rgba(0, 0, 0, 0.15);\n",
              "      filter: drop-shadow(0px 1px 2px rgba(0, 0, 0, 0.3));\n",
              "      fill: #FFFFFF;\n",
              "    }\n",
              "  </style>\n",
              "\n",
              "      <script>\n",
              "        const buttonEl =\n",
              "          document.querySelector('#df-0e1277f3-7b98-4b24-a3f9-d456d86c0360 button.colab-df-convert');\n",
              "        buttonEl.style.display =\n",
              "          google.colab.kernel.accessAllowed ? 'block' : 'none';\n",
              "\n",
              "        async function convertToInteractive(key) {\n",
              "          const element = document.querySelector('#df-0e1277f3-7b98-4b24-a3f9-d456d86c0360');\n",
              "          const dataTable =\n",
              "            await google.colab.kernel.invokeFunction('convertToInteractive',\n",
              "                                                     [key], {});\n",
              "          if (!dataTable) return;\n",
              "\n",
              "          const docLinkHtml = 'Like what you see? Visit the ' +\n",
              "            '<a target=\"_blank\" href=https://colab.research.google.com/notebooks/data_table.ipynb>data table notebook</a>'\n",
              "            + ' to learn more about interactive tables.';\n",
              "          element.innerHTML = '';\n",
              "          dataTable['output_type'] = 'display_data';\n",
              "          await google.colab.output.renderOutput(dataTable, element);\n",
              "          const docLink = document.createElement('div');\n",
              "          docLink.innerHTML = docLinkHtml;\n",
              "          element.appendChild(docLink);\n",
              "        }\n",
              "      </script>\n",
              "    </div>\n",
              "  </div>\n",
              "  "
            ]
          },
          "metadata": {},
          "execution_count": 65
        }
      ],
      "source": [
        "import copy\n",
        "\n",
        "df = pd.DataFrame()\n",
        "for i in range(len(interesting_labels)):\n",
        "    df_tmp = pd.read_csv(interesting_dir+\"/\"+save_filename+\"_\"+interesting_labels[i]+'.csv',header = 0)\n",
        "    df = pd.concat([df, df_tmp])\n",
        "print(len(df.columns))\n",
        "\n",
        "drop_list = ['date','time']\n",
        "\n",
        "df = df.drop(drop_list, axis=1)\n",
        "df = df.dropna()\n",
        "\n",
        "all_data_filename = \"total.csv\"\n",
        "df.to_csv(interesting_dir+all_data_filename)\n",
        "\n",
        "df.head()"
      ]
    },
    {
      "cell_type": "markdown",
      "metadata": {
        "id": "pIVWZ7qF9I0S"
      },
      "source": [
        "## Feature correlation "
      ]
    },
    {
      "cell_type": "code",
      "execution_count": 66,
      "metadata": {
        "scrolled": true,
        "colab": {
          "base_uri": "https://localhost:8080/"
        },
        "id": "T6lqHghB9I0S",
        "outputId": "bdcf5d16-5f90-439f-96b1-eb4b7fa655b2"
      },
      "outputs": [
        {
          "output_type": "stream",
          "name": "stdout",
          "text": [
            "['ID_S', 'Q_I', 'Q_J', 'Q_K', 'Q_R']\n"
          ]
        },
        {
          "output_type": "execute_result",
          "data": {
            "text/plain": [
              "ID_S    0\n",
              "Q_I     0\n",
              "Q_J     0\n",
              "Q_K     0\n",
              "Q_R     0\n",
              "dtype: int64"
            ]
          },
          "metadata": {},
          "execution_count": 66
        }
      ],
      "source": [
        "df_cor = copy.deepcopy(df) \n",
        "\n",
        "features = df_cor.columns[0:-1]\n",
        "df_cor[\"label\"] = pd.factorize(df_cor.label)[0]\n",
        "traindf = pd.DataFrame(df_cor,columns=features)\n",
        "\n",
        "feature_name = list(traindf.columns)\n",
        "print(feature_name)\n",
        "y = df_cor['label']\n",
        "X = traindf.copy()\n",
        "X.isna().sum()"
      ]
    },
    {
      "cell_type": "code",
      "execution_count": 67,
      "metadata": {
        "colab": {
          "base_uri": "https://localhost:8080/",
          "height": 294
        },
        "id": "hK9Au9z29I0T",
        "outputId": "baf49ff6-7646-4c8c-c514-42615181c8d6"
      },
      "outputs": [
        {
          "output_type": "stream",
          "name": "stdout",
          "text": [
            "[0.09525906 0.1667558  0.21099705 0.28203423 0.24495385]\n"
          ]
        },
        {
          "output_type": "display_data",
          "data": {
            "text/plain": [
              "<Figure size 432x288 with 1 Axes>"
            ],
            "image/png": "[encoded data removed]"
          },
          "metadata": {
            "needs_background": "light"
          }
        }
      ],
      "source": [
        "from sklearn.ensemble import ExtraTreesClassifier\n",
        "import matplotlib.pyplot as plt\n",
        "model = ExtraTreesClassifier()\n",
        "model.fit(X,y)\n",
        "print(model.feature_importances_) \n",
        "#plot graph of feature importances for better visualization\n",
        "feat_importances = pd.Series(model.feature_importances_, index=X.columns)\n",
        "feat_importances.nlargest(10).plot(kind='barh')\n",
        "plt.show()"
      ]
    },
    {
      "cell_type": "code",
      "execution_count": 68,
      "metadata": {
        "scrolled": true,
        "id": "5-HsSboK9I0U"
      },
      "outputs": [],
      "source": [
        "#get correlations of each features in dataset\n",
        "#corrmat = df_cor.corr()\n",
        "#top_corr_features = corrmat.index\n",
        "#plt.figure(figsize=(20,20))\n",
        "#plot heat map\n",
        "#g=sns.heatmap(df_cor[top_corr_features].corr(),annot=True,cmap=\"RdYlGn\")"
      ]
    },
    {
      "cell_type": "code",
      "execution_count": 69,
      "metadata": {
        "colab": {
          "base_uri": "https://localhost:8080/"
        },
        "id": "TMpkc4pQ9I0U",
        "outputId": "6db5b8ee-90ed-49b8-ad11-c6252e615df6"
      },
      "outputs": [
        {
          "output_type": "execute_result",
          "data": {
            "text/plain": [
              "['ID_S', 'Q_I', 'Q_J', 'Q_K', 'Q_R']"
            ]
          },
          "metadata": {},
          "execution_count": 69
        }
      ],
      "source": [
        "num_feats= len(feature_name)\n",
        "X.columns.tolist()"
      ]
    },
    {
      "cell_type": "code",
      "execution_count": 70,
      "metadata": {
        "colab": {
          "base_uri": "https://localhost:8080/"
        },
        "id": "Etbf339z9I0V",
        "outputId": "d5e94402-abee-4c13-9591-680500a4f171"
      },
      "outputs": [
        {
          "output_type": "execute_result",
          "data": {
            "text/plain": [
              "{'Q_R': 0.4239660579305199,\n",
              " 'Q_K': 0.3969119027314007,\n",
              " 'Q_J': 0.14835000752817498,\n",
              " 'Q_I': 0.010849572101052486,\n",
              " 'ID_S': 0.00046961609606380503}"
            ]
          },
          "metadata": {},
          "execution_count": 70
        }
      ],
      "source": [
        "def cor_selector(X, y,num_feats):\n",
        "    cor_list = []\n",
        "    feature_name = X.columns.tolist()\n",
        "    \n",
        "    # calculate the correlation with y for each feature\n",
        "    for i in X.columns.tolist():\n",
        "        cor = np.corrcoef(X[i], y)[0, 1]\n",
        "        cor_list.append(cor)\n",
        "        \n",
        "    # replace NaN with 0\n",
        "    cor_list = [0 if np.isnan(i) else i for i in cor_list]\n",
        "    \n",
        "    # feature name\n",
        "    cor_feature = X.iloc[:,np.argsort(np.abs(cor_list))[-num_feats:]].columns.tolist()\n",
        "   \n",
        "    # feature selection? 0 for not select, 1 for select\n",
        "    cor_support = [True if i in cor_feature else False for i in feature_name]\n",
        "\n",
        "    return cor_support, cor_feature, cor_list\n",
        "\n",
        "cor_support, cor_feature, cor_list = cor_selector(X, y,num_feats)\n",
        "cor_val=[abs(x) for x in cor_list]\n",
        "cor_result = dict(zip(cor_feature, cor_val))\n",
        "myDict = {key:val for key, val in cor_result.items() if val > 0}\n",
        "{k: v for k, v in sorted(myDict.items(),reverse=True, key=lambda item: item[1])}"
      ]
    },
    {
      "cell_type": "code",
      "execution_count": 71,
      "metadata": {
        "id": "qS2rAhS99I0W",
        "colab": {
          "base_uri": "https://localhost:8080/"
        },
        "outputId": "b207c266-0bff-4dc7-d884-612a9d4fb14d"
      },
      "outputs": [
        {
          "output_type": "execute_result",
          "data": {
            "text/plain": [
              "Index(['seated', 'iw_uphill', 'stand', 'walk'], dtype='object')"
            ]
          },
          "metadata": {},
          "execution_count": 71
        }
      ],
      "source": [
        "activities = df['label'].value_counts().index\n",
        "activities"
      ]
    },
    {
      "cell_type": "markdown",
      "metadata": {
        "id": "huRwjGga9I0Z"
      },
      "source": [
        "## Split training and testing data"
      ]
    },
    {
      "cell_type": "code",
      "execution_count": 72,
      "metadata": {
        "colab": {
          "base_uri": "https://localhost:8080/"
        },
        "id": "vEqVzdL-9I0Z",
        "outputId": "c808b348-fbe5-4688-aa8a-534fe4e5306d"
      },
      "outputs": [
        {
          "output_type": "stream",
          "name": "stdout",
          "text": [
            "Number of train samples:  2066\n",
            "Number of test samples:  518\n"
          ]
        }
      ],
      "source": [
        "def train_test_split(label, ratio):\n",
        "    split_point = int(len(df[df.label == label]) * ratio)\n",
        "    return (df[df.label == label].iloc[:split_point, :], df[df.label == label].iloc[split_point:, :])\n",
        "\n",
        "split_ratio = 0.8\n",
        "train_data = pd.DataFrame([])\n",
        "test_data = pd.DataFrame([])\n",
        "\n",
        "for i in range(len(interesting_labels)):\n",
        "    (train, test) = train_test_split(interesting_labels[i], split_ratio)\n",
        "    train_data = pd.concat([train_data, train])\n",
        "    test_data = pd.concat([test_data, test])\n",
        "\n",
        "print(\"Number of train samples: \", len(train_data))\n",
        "print(\"Number of test samples: \", len(test_data))\n",
        "\n",
        "\n",
        "train_label = train_data['label'].to_frame()\n",
        "test_label = test_data['label'].to_frame()"
      ]
    },
    {
      "cell_type": "markdown",
      "metadata": {
        "id": "9ZCSA5xL9I0Z"
      },
      "source": [
        "## Data Segmentation (Sliding Window)"
      ]
    },
    {
      "cell_type": "code",
      "execution_count": 73,
      "metadata": {
        "id": "err6EfHS9I0Z"
      },
      "outputs": [],
      "source": [
        "N_TIME_STEPS = 5 #sliding window length # 10 #120\n",
        "STEP = 2 # Sliding window step size 20\n",
        "N_FEATURES = 5\n",
        "\n",
        "def generate_sequence(x, y, n_time_steps, step):\n",
        "    \n",
        "    segments = []\n",
        "    labels = []\n",
        "    for i in range(0, len(x) - n_time_steps, step):\n",
        "\n",
        "        ID_S = x['ID_S'].values[i: i + n_time_steps]\n",
        "        Q_I = x['Q_I'].values[i: i + n_time_steps]\n",
        "        Q_J = x['Q_J'].values[i: i + n_time_steps]\n",
        "        Q_K = x['Q_K'].values[i: i + n_time_steps]\n",
        "        Q_R = x['Q_R'].values[i: i + n_time_steps]\n",
        "     \n",
        "        label = stats.mode(y['label'][i: i + n_time_steps])[0][0]\n",
        "        segments.append([ID_S, Q_I, Q_J, Q_K, Q_R])\n",
        "        labels.append(label)\n",
        "        \n",
        "    return segments, labels\n",
        "\n",
        "train_X, train_y = generate_sequence(train_data, train_label, N_TIME_STEPS, STEP)\n",
        "test_X, test_y = generate_sequence(test_data, test_label, N_TIME_STEPS, STEP)"
      ]
    },
    {
      "cell_type": "code",
      "execution_count": 74,
      "metadata": {
        "id": "Pt-HNaqG9I0Z"
      },
      "outputs": [],
      "source": [
        "# reshape input segments and one-hot encode labels\n",
        "def reshape_segments(x, y, n_time_steps, n_features):\n",
        "    \n",
        "    x_reshaped = np.asarray(x, dtype= np.float32).reshape(-1, n_time_steps, n_features)\n",
        "    y_reshaped = np.asarray(pd.get_dummies(y), dtype = np.float32)\n",
        "    return x_reshaped, y_reshaped\n",
        "\n",
        "X_train, y_train = reshape_segments(train_X, train_y, N_TIME_STEPS, N_FEATURES)\n",
        "X_test, y_test = reshape_segments(test_X, test_y, N_TIME_STEPS, N_FEATURES)"
      ]
    },
    {
      "cell_type": "code",
      "execution_count": 75,
      "metadata": {
        "scrolled": true,
        "id": "jJdwMt1L9I0a"
      },
      "outputs": [],
      "source": [
        "#y_test"
      ]
    },
    {
      "cell_type": "markdown",
      "metadata": {
        "id": "zjlqEMru9I0a"
      },
      "source": [
        "## Import DL Library"
      ]
    },
    {
      "cell_type": "code",
      "execution_count": 76,
      "metadata": {
        "id": "PFFl4sX99I0a"
      },
      "outputs": [],
      "source": [
        "from keras.regularizers import l2\n",
        "from keras.models import Sequential, load_model\n",
        "from keras.layers import Dense, LSTM, Flatten, Bidirectional\n",
        "from tensorflow.keras.layers import Attention\n",
        "from keras.layers import Conv2D, MaxPooling2D, Dropout\n",
        "from keras import optimizers\n",
        "from keras import backend as K\n",
        "from tensorflow.python.tools import freeze_graph\n",
        "from tensorflow.python.tools import optimize_for_inference_lib\n",
        "\n",
        "from keras.callbacks import ModelCheckpoint, LearningRateScheduler, TensorBoard, EarlyStopping, ReduceLROnPlateau\n",
        "N_CLASSES = 4\n",
        "L2 = 0.00001"
      ]
    },
    {
      "cell_type": "markdown",
      "metadata": {
        "id": "HYaKUb7w9I0b"
      },
      "source": [
        "## LSTM Model "
      ]
    },
    {
      "cell_type": "code",
      "execution_count": 77,
      "metadata": {
        "scrolled": true,
        "colab": {
          "base_uri": "https://localhost:8080/"
        },
        "id": "v2ojrWNt9I0b",
        "outputId": "4bc4e46a-482e-4e6f-9652-230e3877e8d3"
      },
      "outputs": [
        {
          "output_type": "stream",
          "name": "stdout",
          "text": [
            "Model: \"sequential\"\n",
            "_________________________________________________________________\n",
            " Layer (type)                Output Shape              Param #   \n",
            "=================================================================\n",
            " bidirectional (Bidirectiona  (None, 5, 400)           329600    \n",
            " l)                                                              \n",
            "                                                                 \n",
            " Flatten (Flatten)           (None, 2000)              0         \n",
            "                                                                 \n",
            " Dense_3 (Dense)             (None, 128)               256128    \n",
            "                                                                 \n",
            " dropout (Dropout)           (None, 128)               0         \n",
            "                                                                 \n",
            " Dense_4 (Dense)             (None, 4)                 516       \n",
            "                                                                 \n",
            "=================================================================\n",
            "Total params: 586,244\n",
            "Trainable params: 586,244\n",
            "Non-trainable params: 0\n",
            "_________________________________________________________________\n",
            "Epoch 1/300\n",
            "15/17 [=========================>....] - ETA: 0s - loss: 1.3397 - accuracy: 0.3792\n",
            "Epoch 1: val_loss improved from inf to 1.27730, saving model to har_model_lstm_2021.h5\n",
            "17/17 [==============================] - 4s 66ms/step - loss: 1.3331 - accuracy: 0.3841 - val_loss: 1.2773 - val_accuracy: 0.3619\n",
            "Epoch 2/300\n",
            "17/17 [==============================] - ETA: 0s - loss: 1.0561 - accuracy: 0.5732\n",
            "Epoch 2: val_loss improved from 1.27730 to 0.99487, saving model to har_model_lstm_2021.h5\n",
            "17/17 [==============================] - 0s 12ms/step - loss: 1.0561 - accuracy: 0.5732 - val_loss: 0.9949 - val_accuracy: 0.7821\n",
            "Epoch 3/300\n",
            "17/17 [==============================] - ETA: 0s - loss: 0.7520 - accuracy: 0.7468\n",
            "Epoch 3: val_loss improved from 0.99487 to 0.85774, saving model to har_model_lstm_2021.h5\n",
            "17/17 [==============================] - 0s 12ms/step - loss: 0.7520 - accuracy: 0.7468 - val_loss: 0.8577 - val_accuracy: 0.7782\n",
            "Epoch 4/300\n",
            "17/17 [==============================] - ETA: 0s - loss: 0.5479 - accuracy: 0.8361\n",
            "Epoch 4: val_loss improved from 0.85774 to 0.75676, saving model to har_model_lstm_2021.h5\n",
            "17/17 [==============================] - 0s 12ms/step - loss: 0.5479 - accuracy: 0.8361 - val_loss: 0.7568 - val_accuracy: 0.8016\n",
            "Epoch 5/300\n",
            "16/17 [===========================>..] - ETA: 0s - loss: 0.4252 - accuracy: 0.8711\n",
            "Epoch 5: val_loss improved from 0.75676 to 0.61980, saving model to har_model_lstm_2021.h5\n",
            "17/17 [==============================] - 0s 12ms/step - loss: 0.4232 - accuracy: 0.8720 - val_loss: 0.6198 - val_accuracy: 0.7977\n",
            "Epoch 6/300\n",
            "15/17 [=========================>....] - ETA: 0s - loss: 0.3200 - accuracy: 0.9073\n",
            "Epoch 6: val_loss improved from 0.61980 to 0.44607, saving model to har_model_lstm_2021.h5\n",
            "17/17 [==============================] - 0s 13ms/step - loss: 0.3207 - accuracy: 0.9059 - val_loss: 0.4461 - val_accuracy: 0.8444\n",
            "Epoch 7/300\n",
            "17/17 [==============================] - ETA: 0s - loss: 0.2793 - accuracy: 0.9030\n",
            "Epoch 7: val_loss did not improve from 0.44607\n",
            "17/17 [==============================] - 0s 9ms/step - loss: 0.2793 - accuracy: 0.9030 - val_loss: 0.5084 - val_accuracy: 0.8327\n",
            "Epoch 8/300\n",
            "16/17 [===========================>..] - ETA: 0s - loss: 0.2329 - accuracy: 0.9229\n",
            "Epoch 8: val_loss improved from 0.44607 to 0.37799, saving model to har_model_lstm_2021.h5\n",
            "17/17 [==============================] - 0s 12ms/step - loss: 0.2329 - accuracy: 0.9224 - val_loss: 0.3780 - val_accuracy: 0.8833\n",
            "Epoch 9/300\n",
            "17/17 [==============================] - ETA: 0s - loss: 0.2145 - accuracy: 0.9379\n",
            "Epoch 9: val_loss improved from 0.37799 to 0.35753, saving model to har_model_lstm_2021.h5\n",
            "17/17 [==============================] - 0s 12ms/step - loss: 0.2145 - accuracy: 0.9379 - val_loss: 0.3575 - val_accuracy: 0.8988\n",
            "Epoch 10/300\n",
            "15/17 [=========================>....] - ETA: 0s - loss: 0.1901 - accuracy: 0.9427\n",
            "Epoch 10: val_loss did not improve from 0.35753\n",
            "17/17 [==============================] - 0s 10ms/step - loss: 0.1858 - accuracy: 0.9447 - val_loss: 0.3592 - val_accuracy: 0.8949\n",
            "Epoch 11/300\n",
            "17/17 [==============================] - ETA: 0s - loss: 0.1728 - accuracy: 0.9525\n",
            "Epoch 11: val_loss improved from 0.35753 to 0.32224, saving model to har_model_lstm_2021.h5\n",
            "17/17 [==============================] - 0s 13ms/step - loss: 0.1728 - accuracy: 0.9525 - val_loss: 0.3222 - val_accuracy: 0.9416\n",
            "Epoch 12/300\n",
            "17/17 [==============================] - ETA: 0s - loss: 0.1848 - accuracy: 0.9476\n",
            "Epoch 12: val_loss did not improve from 0.32224\n",
            "17/17 [==============================] - 0s 9ms/step - loss: 0.1848 - accuracy: 0.9476 - val_loss: 0.3329 - val_accuracy: 0.8949\n",
            "Epoch 13/300\n",
            "17/17 [==============================] - ETA: 0s - loss: 0.1741 - accuracy: 0.9525\n",
            "Epoch 13: val_loss improved from 0.32224 to 0.30312, saving model to har_model_lstm_2021.h5\n",
            "17/17 [==============================] - 0s 12ms/step - loss: 0.1741 - accuracy: 0.9525 - val_loss: 0.3031 - val_accuracy: 0.9066\n",
            "Epoch 14/300\n",
            "17/17 [==============================] - ETA: 0s - loss: 0.1858 - accuracy: 0.9437\n",
            "Epoch 14: val_loss did not improve from 0.30312\n",
            "17/17 [==============================] - 0s 9ms/step - loss: 0.1858 - accuracy: 0.9437 - val_loss: 0.3538 - val_accuracy: 0.9105\n",
            "Epoch 15/300\n",
            "15/17 [=========================>....] - ETA: 0s - loss: 0.1624 - accuracy: 0.9552\n",
            "Epoch 15: val_loss did not improve from 0.30312\n",
            "17/17 [==============================] - 0s 10ms/step - loss: 0.1576 - accuracy: 0.9564 - val_loss: 0.3309 - val_accuracy: 0.9377\n",
            "Epoch 16/300\n",
            "17/17 [==============================] - ETA: 0s - loss: 0.1598 - accuracy: 0.9622\n",
            "Epoch 16: val_loss did not improve from 0.30312\n",
            "17/17 [==============================] - 0s 9ms/step - loss: 0.1598 - accuracy: 0.9622 - val_loss: 0.3228 - val_accuracy: 0.8988\n",
            "Epoch 17/300\n",
            "15/17 [=========================>....] - ETA: 0s - loss: 0.1651 - accuracy: 0.9448\n",
            "Epoch 17: val_loss did not improve from 0.30312\n",
            "17/17 [==============================] - 0s 10ms/step - loss: 0.1595 - accuracy: 0.9476 - val_loss: 0.3133 - val_accuracy: 0.9377\n",
            "Epoch 18/300\n",
            "16/17 [===========================>..] - ETA: 0s - loss: 0.1306 - accuracy: 0.9658\n",
            "Epoch 18: val_loss did not improve from 0.30312\n",
            "17/17 [==============================] - 0s 9ms/step - loss: 0.1303 - accuracy: 0.9661 - val_loss: 0.3219 - val_accuracy: 0.9416\n"
          ]
        }
      ],
      "source": [
        "# LSTM model\n",
        "from keras.backend import clear_session\n",
        "filepath = 'har_model_lstm_2021.h5'\n",
        "\n",
        "clear_session()\n",
        "model = Sequential()\n",
        "model.add(Bidirectional(LSTM(200, return_sequences=True,kernel_initializer='orthogonal',\n",
        "                             kernel_regularizer=l2(L2), recurrent_regularizer=l2(L2),\n",
        "                             bias_regularizer=l2(L2),name=\"LSTM_1\"),\n",
        "                             input_shape=(N_TIME_STEPS, N_FEATURES)))\n",
        "\n",
        "model.add(Flatten(name='Flatten'))\n",
        "model.add(Dense(128, activation='relu', kernel_regularizer=l2(L2), bias_regularizer=l2(L2), name=\"Dense_3\"))\n",
        "model.add(Dropout(0.2))\n",
        "model.add(Dense(N_CLASSES, activation='softmax', kernel_regularizer=l2(L2), bias_regularizer=l2(L2), name=\"Dense_4\"))\n",
        "\n",
        "\n",
        "model.summary()\n",
        "\n",
        "checkpoint = ModelCheckpoint(filepath=filepath,\n",
        "                             monitor='val_loss',\n",
        "                             verbose=1,\n",
        "                             save_best_only=True)\n",
        "stop = EarlyStopping(monitor='val_loss', patience =5,\n",
        "                      verbose=0, mode='auto', baseline=None, \n",
        "                      restore_best_weights=False)\n",
        "reduce =  ReduceLROnPlateau(monitor='val_loss',\n",
        "                    factor=0.5,\n",
        "                    patience=2,\n",
        "                    verbose=1)\n",
        "callbacks = [checkpoint,stop]\n",
        "\n",
        "model.compile(optimizer=\"adam\",loss='categorical_crossentropy',metrics=['accuracy'])\n",
        "\n",
        "BATCH_SIZE =64\n",
        "N_EPOCHS = 300\n",
        "\n",
        "lstm = model.fit(X_train, y_train,\n",
        "          batch_size=BATCH_SIZE, shuffle=True,epochs=N_EPOCHS,callbacks=callbacks,\n",
        "          validation_data=(X_test, y_test))"
      ]
    },
    {
      "cell_type": "code",
      "execution_count": 78,
      "metadata": {
        "scrolled": true,
        "colab": {
          "base_uri": "https://localhost:8080/",
          "height": 552
        },
        "id": "nsTDLchI9I0c",
        "outputId": "cb08f29e-f65a-4a86-fdfa-cdc7a1e30645"
      },
      "outputs": [
        {
          "output_type": "stream",
          "name": "stdout",
          "text": [
            "[1 1 1 1 1 1 1 1 1 1 1 1 1 1 1 1 1 1 1 1 1 1 1 1 1 1 1 1 1 1 1 1 1 1 1 1 1\n",
            " 1 1 1 1 1 1 1 1 1 1 1 1 1 1 1 1 1 1 1 1 1 1 1 1 1 1 1 1 1 1 1 1 2 2 2 2 2\n",
            " 2 2 2 2 2 2 2 2 2 2 2 2 2 2 2 2 2 2 2 2 2 2 2 2 2 2 2 2 2 2 2 2 2 2 2 2 2\n",
            " 2 2 2 2 2 2 2 2 2 2 2 2 2 2 2 2 2 2 2 2 2 3 3 3 3 3 3 3 3 3 3 3 3 3 3 3 3\n",
            " 3 3 3 3 3 3 3 3 3 3 3 3 3 3 3 3 3 3 3 3 3 3 3 3 3 3 3 3 3 3 3 3 3 3 3 3 3\n",
            " 3 3 3 3 3 3 3 3 3 0 0 0 0 0 0 0 0 0 0 0 0 0 0 0 0 0 0 0 0 0 0 0 0 0 0 0 0\n",
            " 0 0 0 0 0 0 0 0 0 0 0 0 0 0 0 0 0 0 0 0 0 0 0 0 0 0 0 0 0 0 0 0 0 0 0]\n"
          ]
        },
        {
          "output_type": "display_data",
          "data": {
            "text/plain": [
              "<Figure size 576x432 with 2 Axes>"
            ],
            "image/png": "[encoded data removed]"
          },
          "metadata": {
            "needs_background": "light"
          }
        }
      ],
      "source": [
        "# use LSTM model to predict\n",
        "\n",
        "y_pred_ohe = model.predict(X_test)\n",
        "y_pred_labels = np.argmax(y_pred_ohe, axis=1)\n",
        "y_true_labels = np.argmax(y_test, axis=1)\n",
        "confusion_matrix = metrics.confusion_matrix(y_true=y_true_labels, y_pred=y_pred_labels)\n",
        "print(y_true_labels)\n",
        "LABELS = ['seated', 'stand','walk','iwuphill']\n",
        "\n",
        "plt.figure(figsize=(8, 6))\n",
        "sns.set(style='whitegrid', palette='muted', font_scale=1.5)\n",
        "sns.heatmap(confusion_matrix, xticklabels=LABELS, yticklabels=LABELS, annot=True, fmt=\"d\");\n",
        "plt.title(\"Confusion matrix\")\n",
        "plt.ylabel('True label')\n",
        "plt.xlabel('Predicted label')\n",
        "plt.show();"
      ]
    },
    {
      "cell_type": "code",
      "source": [
        "predIdxs = model.predict(X_test, batch_size=BATCH_SIZE)\n",
        "predIdxs = np.argmax(predIdxs, axis=1)"
      ],
      "metadata": {
        "id": "36L7EIPbLGa0"
      },
      "execution_count": 79,
      "outputs": []
    },
    {
      "cell_type": "code",
      "source": [
        "# show a classification report\n",
        "print(classification_report(y_test.argmax(axis=1), predIdxs,\n",
        "\ttarget_names=['seated', 'stand','walk','iwuphill']))\n"
      ],
      "metadata": {
        "colab": {
          "base_uri": "https://localhost:8080/"
        },
        "id": "3wZSziZzKX2A",
        "outputId": "e8e6aeae-fb2a-42f4-ae43-ca263ffa79d7"
      },
      "execution_count": 80,
      "outputs": [
        {
          "output_type": "stream",
          "name": "stdout",
          "text": [
            "              precision    recall  f1-score   support\n",
            "\n",
            "      seated       1.00      0.95      0.98        63\n",
            "       stand       0.97      1.00      0.99        69\n",
            "        walk       0.89      0.89      0.89        63\n",
            "    iwuphill       0.90      0.92      0.91        62\n",
            "\n",
            "    accuracy                           0.94       257\n",
            "   macro avg       0.94      0.94      0.94       257\n",
            "weighted avg       0.94      0.94      0.94       257\n",
            "\n"
          ]
        }
      ]
    },
    {
      "cell_type": "code",
      "execution_count": 81,
      "metadata": {
        "colab": {
          "base_uri": "https://localhost:8080/",
          "height": 619
        },
        "id": "OaCxG9Un9I0c",
        "outputId": "85204762-27c0-460e-82c5-b17883808656"
      },
      "outputs": [
        {
          "output_type": "display_data",
          "data": {
            "text/plain": [
              "<Figure size 432x288 with 1 Axes>"
            ],
            "image/png": "[encoded data removed]"
          },
          "metadata": {}
        },
        {
          "output_type": "display_data",
          "data": {
            "text/plain": [
              "<Figure size 432x288 with 1 Axes>"
            ],
            "image/png": "[encoded data removed]"
          },
          "metadata": {}
        }
      ],
      "source": [
        "plt.plot(lstm.history['accuracy'])\n",
        "plt.plot(lstm.history['val_accuracy'])\n",
        "plt.title('model accuracy')\n",
        "plt.ylabel('accuracy')\n",
        "plt.xlabel('epoch')\n",
        "plt.ylim(0,1)\n",
        "plt.legend(['train', 'val'], loc='best')\n",
        "plt.show()\n",
        "\n",
        "plt.plot(lstm.history['loss'])\n",
        "plt.plot(lstm.history['val_loss'])\n",
        "plt.title('model loss')\n",
        "plt.ylabel('loss')\n",
        "plt.xlabel('epoch')\n",
        "plt.legend(['train', 'val'], loc='best')\n",
        "plt.show()"
      ]
    },
    {
      "cell_type": "markdown",
      "metadata": {
        "id": "ez0TA6im9I0d"
      },
      "source": [
        "## Save the model into .pb file"
      ]
    },
    {
      "cell_type": "code",
      "source": [
        "# Save LSTM model\n",
        "\n",
        "#output_node_name = \"Dense_2/Softmax\"\n",
        "#MODEL_LSTM = str(N_TIME_STEPS)+\"_\"+str(STEP)+\"_\"+str(N_FEATURES)+\"_\"+str(N_CLASSES)+\"_nomagnew\"\n",
        "\n",
        "#tf.train.write_graph(K.get_session().graph_def, './models/LSTM/', \\     MODEL_LSTM + '_graph.pbtxt')\n",
        "#saver = tf.train.Saver()\n",
        "#saver.save(K.get_session(), './models/LSTM/' + MODEL_LSTM + '.chkp')\n",
        "\n",
        "#freeze_graph.freeze_graph('./models/LSTM/' +MODEL_LSTM+ '_graph.pbtxt', None, \\\n",
        "#   False, './models/LSTM/' + MODEL_LSTM+ '.chkp', output_node_name, \\\n",
        "#   \"save/restore_all\", \"save/Const:0\", \\\n",
        "#    './models/LSTM/' +MODEL_LSTM + '.pb', True, \"\")"
      ],
      "metadata": {
        "id": "IE2brr6tuFHc"
      },
      "execution_count": 82,
      "outputs": []
    },
    {
      "cell_type": "markdown",
      "source": [
        "# GRU Model"
      ],
      "metadata": {
        "id": "i9nUUG5o5bZa"
      }
    },
    {
      "cell_type": "code",
      "source": [
        "from keras.layers import GRU"
      ],
      "metadata": {
        "id": "LeMwv8D95amw"
      },
      "execution_count": 83,
      "outputs": []
    },
    {
      "cell_type": "code",
      "source": [
        "# GRU model\n",
        "from keras.backend import clear_session\n",
        "filepath = 'har_model_gru.h5'\n",
        "\n",
        "clear_session()\n",
        "model = Sequential()\n",
        "model.add(Bidirectional(GRU(200, return_sequences=True,kernel_initializer='orthogonal',\n",
        "                             kernel_regularizer=l2(L2), recurrent_regularizer=l2(L2),\n",
        "                             bias_regularizer=l2(L2),name=\"LSTM_1\"),\n",
        "                             input_shape=(N_TIME_STEPS, N_FEATURES)))\n",
        "\n",
        "model.add(Flatten(name='Flatten'))\n",
        "model.add(Dense(128, activation='relu', kernel_regularizer=l2(L2), bias_regularizer=l2(L2), name=\"Dense_3\"))\n",
        "model.add(Dropout(0.2))\n",
        "model.add(Dense(N_CLASSES, activation='softmax', kernel_regularizer=l2(L2), bias_regularizer=l2(L2), name=\"Dense_4\"))\n",
        "\n",
        "\n",
        "model.summary()\n",
        "\n",
        "checkpoint = ModelCheckpoint(filepath=filepath,\n",
        "                             monitor='val_loss',\n",
        "                             verbose=1,\n",
        "                             save_best_only=True)\n",
        "stop = EarlyStopping(monitor='val_loss', patience =5,\n",
        "                      verbose=0, mode='auto', baseline=None, \n",
        "                      restore_best_weights=False)\n",
        "reduce =  ReduceLROnPlateau(monitor='val_loss',\n",
        "                    factor=0.5,\n",
        "                    patience=2,\n",
        "                    verbose=1)\n",
        "callbacks = [checkpoint,stop]\n",
        "\n",
        "model.compile(optimizer=\"adam\",loss='categorical_crossentropy',metrics=['accuracy'])\n",
        "\n",
        "BATCH_SIZE =64\n",
        "N_EPOCHS = 300\n",
        "\n",
        "lstm = model.fit(X_train, y_train,\n",
        "          batch_size=BATCH_SIZE, shuffle=True,epochs=N_EPOCHS,callbacks=callbacks,\n",
        "          validation_data=(X_test, y_test))"
      ],
      "metadata": {
        "colab": {
          "base_uri": "https://localhost:8080/"
        },
        "id": "4IYZFvH55o7E",
        "outputId": "a0947d71-7968-4f05-9f0b-983c9cb7bdca"
      },
      "execution_count": 84,
      "outputs": [
        {
          "output_type": "stream",
          "name": "stdout",
          "text": [
            "Model: \"sequential\"\n",
            "_________________________________________________________________\n",
            " Layer (type)                Output Shape              Param #   \n",
            "=================================================================\n",
            " bidirectional (Bidirectiona  (None, 5, 400)           248400    \n",
            " l)                                                              \n",
            "                                                                 \n",
            " Flatten (Flatten)           (None, 2000)              0         \n",
            "                                                                 \n",
            " Dense_3 (Dense)             (None, 128)               256128    \n",
            "                                                                 \n",
            " dropout (Dropout)           (None, 128)               0         \n",
            "                                                                 \n",
            " Dense_4 (Dense)             (None, 4)                 516       \n",
            "                                                                 \n",
            "=================================================================\n",
            "Total params: 505,044\n",
            "Trainable params: 505,044\n",
            "Non-trainable params: 0\n",
            "_________________________________________________________________\n",
            "Epoch 1/300\n",
            "12/17 [====================>.........] - ETA: 0s - loss: 1.2532 - accuracy: 0.4570\n",
            "Epoch 1: val_loss improved from inf to 1.02443, saving model to har_model_gru.h5\n",
            "17/17 [==============================] - 9s 126ms/step - loss: 1.1996 - accuracy: 0.5141 - val_loss: 1.0244 - val_accuracy: 0.7471\n",
            "Epoch 2/300\n",
            "17/17 [==============================] - ETA: 0s - loss: 0.6758 - accuracy: 0.8535\n",
            "Epoch 2: val_loss improved from 1.02443 to 0.67477, saving model to har_model_gru.h5\n",
            "17/17 [==============================] - 0s 26ms/step - loss: 0.6758 - accuracy: 0.8535 - val_loss: 0.6748 - val_accuracy: 0.8093\n",
            "Epoch 3/300\n",
            "17/17 [==============================] - ETA: 0s - loss: 0.3419 - accuracy: 0.9011\n",
            "Epoch 3: val_loss improved from 0.67477 to 0.49595, saving model to har_model_gru.h5\n",
            "17/17 [==============================] - 0s 21ms/step - loss: 0.3419 - accuracy: 0.9011 - val_loss: 0.4960 - val_accuracy: 0.8444\n",
            "Epoch 4/300\n",
            "17/17 [==============================] - ETA: 0s - loss: 0.2633 - accuracy: 0.9205\n",
            "Epoch 4: val_loss did not improve from 0.49595\n",
            "17/17 [==============================] - 0s 19ms/step - loss: 0.2633 - accuracy: 0.9205 - val_loss: 0.6839 - val_accuracy: 0.7977\n",
            "Epoch 5/300\n",
            "14/17 [=======================>......] - ETA: 0s - loss: 0.2817 - accuracy: 0.9085\n",
            "Epoch 5: val_loss improved from 0.49595 to 0.35885, saving model to har_model_gru.h5\n",
            "17/17 [==============================] - 0s 21ms/step - loss: 0.2795 - accuracy: 0.9108 - val_loss: 0.3588 - val_accuracy: 0.9066\n",
            "Epoch 6/300\n",
            "14/17 [=======================>......] - ETA: 0s - loss: 0.2047 - accuracy: 0.9420\n",
            "Epoch 6: val_loss did not improve from 0.35885\n",
            "17/17 [==============================] - 0s 13ms/step - loss: 0.1979 - accuracy: 0.9457 - val_loss: 0.5037 - val_accuracy: 0.8210\n",
            "Epoch 7/300\n",
            "12/17 [====================>.........] - ETA: 0s - loss: 0.1976 - accuracy: 0.9271\n",
            "Epoch 7: val_loss improved from 0.35885 to 0.32081, saving model to har_model_gru.h5\n",
            "17/17 [==============================] - 0s 17ms/step - loss: 0.2096 - accuracy: 0.9282 - val_loss: 0.3208 - val_accuracy: 0.9105\n",
            "Epoch 8/300\n",
            "16/17 [===========================>..] - ETA: 0s - loss: 0.1874 - accuracy: 0.9434\n",
            "Epoch 8: val_loss improved from 0.32081 to 0.29409, saving model to har_model_gru.h5\n",
            "17/17 [==============================] - 0s 30ms/step - loss: 0.1890 - accuracy: 0.9428 - val_loss: 0.2941 - val_accuracy: 0.9339\n",
            "Epoch 9/300\n",
            "17/17 [==============================] - ETA: 0s - loss: 0.1637 - accuracy: 0.9564\n",
            "Epoch 9: val_loss did not improve from 0.29409\n",
            "17/17 [==============================] - 0s 20ms/step - loss: 0.1637 - accuracy: 0.9564 - val_loss: 0.2989 - val_accuracy: 0.9183\n",
            "Epoch 10/300\n",
            "15/17 [=========================>....] - ETA: 0s - loss: 0.1855 - accuracy: 0.9354\n",
            "Epoch 10: val_loss did not improve from 0.29409\n",
            "17/17 [==============================] - 0s 17ms/step - loss: 0.1821 - accuracy: 0.9360 - val_loss: 0.3432 - val_accuracy: 0.8833\n",
            "Epoch 11/300\n",
            "13/17 [=====================>........] - ETA: 0s - loss: 0.1578 - accuracy: 0.9507\n",
            "Epoch 11: val_loss improved from 0.29409 to 0.26224, saving model to har_model_gru.h5\n",
            "17/17 [==============================] - 0s 25ms/step - loss: 0.1560 - accuracy: 0.9496 - val_loss: 0.2622 - val_accuracy: 0.9416\n",
            "Epoch 12/300\n",
            "16/17 [===========================>..] - ETA: 0s - loss: 0.1306 - accuracy: 0.9697\n",
            "Epoch 12: val_loss improved from 0.26224 to 0.24827, saving model to har_model_gru.h5\n",
            "17/17 [==============================] - 0s 23ms/step - loss: 0.1309 - accuracy: 0.9699 - val_loss: 0.2483 - val_accuracy: 0.9339\n",
            "Epoch 13/300\n",
            "15/17 [=========================>....] - ETA: 0s - loss: 0.1412 - accuracy: 0.9573\n",
            "Epoch 13: val_loss did not improve from 0.24827\n",
            "17/17 [==============================] - 0s 21ms/step - loss: 0.1357 - accuracy: 0.9593 - val_loss: 0.2582 - val_accuracy: 0.9261\n",
            "Epoch 14/300\n",
            "16/17 [===========================>..] - ETA: 0s - loss: 0.1272 - accuracy: 0.9658\n",
            "Epoch 14: val_loss did not improve from 0.24827\n",
            "17/17 [==============================] - 0s 15ms/step - loss: 0.1269 - accuracy: 0.9661 - val_loss: 0.2505 - val_accuracy: 0.9300\n",
            "Epoch 15/300\n",
            "16/17 [===========================>..] - ETA: 0s - loss: 0.1207 - accuracy: 0.9629\n",
            "Epoch 15: val_loss did not improve from 0.24827\n",
            "17/17 [==============================] - 0s 19ms/step - loss: 0.1214 - accuracy: 0.9622 - val_loss: 0.2567 - val_accuracy: 0.9377\n",
            "Epoch 16/300\n",
            "16/17 [===========================>..] - ETA: 0s - loss: 0.1369 - accuracy: 0.9648\n",
            "Epoch 16: val_loss did not improve from 0.24827\n",
            "17/17 [==============================] - 0s 18ms/step - loss: 0.1365 - accuracy: 0.9651 - val_loss: 0.2729 - val_accuracy: 0.9416\n",
            "Epoch 17/300\n",
            "14/17 [=======================>......] - ETA: 0s - loss: 0.1147 - accuracy: 0.9721\n",
            "Epoch 17: val_loss did not improve from 0.24827\n",
            "17/17 [==============================] - 0s 15ms/step - loss: 0.1107 - accuracy: 0.9738 - val_loss: 0.2874 - val_accuracy: 0.9261\n"
          ]
        }
      ]
    },
    {
      "cell_type": "code",
      "source": [
        "# GRU model to predict\n",
        "\n",
        "y_pred_ohe = model.predict(X_test)\n",
        "y_pred_labels = np.argmax(y_pred_ohe, axis=1)\n",
        "y_true_labels = np.argmax(y_test, axis=1)\n",
        "confusion_matrix = metrics.confusion_matrix(y_true=y_true_labels, y_pred=y_pred_labels)\n",
        "print(y_true_labels)\n",
        "LABELS = ['seated', 'stand','walk','iwuphill']\n",
        "\n",
        "plt.figure(figsize=(8, 6))\n",
        "sns.set(style='whitegrid', palette='muted', font_scale=1.5)\n",
        "sns.heatmap(confusion_matrix, xticklabels=LABELS, yticklabels=LABELS, annot=True, fmt=\"d\");\n",
        "plt.title(\"Confusion matrix\")\n",
        "plt.ylabel('True label')\n",
        "plt.xlabel('Predicted label')\n",
        "plt.show();\n",
        "\n"
      ],
      "metadata": {
        "colab": {
          "base_uri": "https://localhost:8080/",
          "height": 552
        },
        "id": "vfNbdSkj5y0k",
        "outputId": "afe63259-cf09-49d7-e0a2-97b95e4ce3af"
      },
      "execution_count": 85,
      "outputs": [
        {
          "output_type": "stream",
          "name": "stdout",
          "text": [
            "[1 1 1 1 1 1 1 1 1 1 1 1 1 1 1 1 1 1 1 1 1 1 1 1 1 1 1 1 1 1 1 1 1 1 1 1 1\n",
            " 1 1 1 1 1 1 1 1 1 1 1 1 1 1 1 1 1 1 1 1 1 1 1 1 1 1 1 1 1 1 1 1 2 2 2 2 2\n",
            " 2 2 2 2 2 2 2 2 2 2 2 2 2 2 2 2 2 2 2 2 2 2 2 2 2 2 2 2 2 2 2 2 2 2 2 2 2\n",
            " 2 2 2 2 2 2 2 2 2 2 2 2 2 2 2 2 2 2 2 2 2 3 3 3 3 3 3 3 3 3 3 3 3 3 3 3 3\n",
            " 3 3 3 3 3 3 3 3 3 3 3 3 3 3 3 3 3 3 3 3 3 3 3 3 3 3 3 3 3 3 3 3 3 3 3 3 3\n",
            " 3 3 3 3 3 3 3 3 3 0 0 0 0 0 0 0 0 0 0 0 0 0 0 0 0 0 0 0 0 0 0 0 0 0 0 0 0\n",
            " 0 0 0 0 0 0 0 0 0 0 0 0 0 0 0 0 0 0 0 0 0 0 0 0 0 0 0 0 0 0 0 0 0 0 0]\n"
          ]
        },
        {
          "output_type": "display_data",
          "data": {
            "text/plain": [
              "<Figure size 576x432 with 2 Axes>"
            ],
            "image/png": "[encoded data removed]"
          },
          "metadata": {}
        }
      ]
    },
    {
      "cell_type": "code",
      "source": [
        "predIdxs = model.predict(X_test, batch_size=BATCH_SIZE)\n",
        "predIdxs = np.argmax(predIdxs, axis=1)\n",
        "\n",
        "# show a classification report\n",
        "print(classification_report(y_test.argmax(axis=1), predIdxs,\n",
        "\ttarget_names=['seated', 'stand','walk','iwuphill']))\n",
        "\n",
        "\n"
      ],
      "metadata": {
        "colab": {
          "base_uri": "https://localhost:8080/"
        },
        "id": "NL_NREk_5328",
        "outputId": "24a17a49-8ee1-4124-c1bb-42745f17c8bb"
      },
      "execution_count": 86,
      "outputs": [
        {
          "output_type": "stream",
          "name": "stdout",
          "text": [
            "              precision    recall  f1-score   support\n",
            "\n",
            "      seated       0.93      0.98      0.95        63\n",
            "       stand       0.97      1.00      0.99        69\n",
            "        walk       0.84      0.92      0.88        63\n",
            "    iwuphill       0.98      0.79      0.87        62\n",
            "\n",
            "    accuracy                           0.93       257\n",
            "   macro avg       0.93      0.92      0.92       257\n",
            "weighted avg       0.93      0.93      0.92       257\n",
            "\n"
          ]
        }
      ]
    },
    {
      "cell_type": "code",
      "source": [
        "plt.plot(lstm.history['accuracy'])\n",
        "plt.plot(lstm.history['val_accuracy'])\n",
        "plt.title('model accuracy')\n",
        "plt.ylabel('accuracy')\n",
        "plt.xlabel('epoch')\n",
        "plt.ylim(0,1)\n",
        "plt.legend(['train', 'val'], loc='best')\n",
        "plt.show()\n",
        "\n",
        "plt.plot(lstm.history['loss'])\n",
        "plt.plot(lstm.history['val_loss'])\n",
        "plt.title('model loss')\n",
        "plt.ylabel('loss')\n",
        "plt.xlabel('epoch')\n",
        "plt.legend(['train', 'val'], loc='best')\n",
        "plt.show()\n",
        "\n"
      ],
      "metadata": {
        "colab": {
          "base_uri": "https://localhost:8080/",
          "height": 619
        },
        "id": "iUbge0eg6BYr",
        "outputId": "310c4581-a222-4c05-a092-6e2d34d6f0e2"
      },
      "execution_count": 87,
      "outputs": [
        {
          "output_type": "display_data",
          "data": {
            "text/plain": [
              "<Figure size 432x288 with 1 Axes>"
            ],
            "image/png": "[encoded data removed]"
          },
          "metadata": {}
        },
        {
          "output_type": "display_data",
          "data": {
            "text/plain": [
              "<Figure size 432x288 with 1 Axes>"
            ],
            "image/png": "[encoded data removed]"
          },
          "metadata": {}
        }
      ]
    },
    {
      "cell_type": "markdown",
      "source": [
        "RNN Model"
      ],
      "metadata": {
        "id": "pldt0IlV6LMY"
      }
    },
    {
      "cell_type": "code",
      "source": [
        "from keras.layers import SimpleRNN"
      ],
      "metadata": {
        "id": "ZmgQbt1k6eCY"
      },
      "execution_count": 88,
      "outputs": []
    },
    {
      "cell_type": "code",
      "source": [
        "# Simple RNN model\n",
        "from keras.backend import clear_session\n",
        "filepath = 'har_model_rnn.h5'\n",
        "\n",
        "clear_session()\n",
        "model = Sequential()\n",
        "\n",
        "model.add(SimpleRNN(200,input_shape=(N_TIME_STEPS, N_FEATURES), return_sequences=True,kernel_initializer='orthogonal',\n",
        "                             kernel_regularizer=l2(L2), recurrent_regularizer=l2(L2),\n",
        "                             bias_regularizer=l2(L2),))\n",
        "\n",
        "\n",
        "model.add(Flatten(name='Flatten'))\n",
        "model.add(Dense(128, activation='relu', kernel_regularizer=l2(L2), bias_regularizer=l2(L2), name=\"Dense_3\"))\n",
        "model.add(Dropout(0.2))\n",
        "model.add(Dense(N_CLASSES, activation='softmax', kernel_regularizer=l2(L2), bias_regularizer=l2(L2), name=\"Dense_4\"))\n",
        "\n",
        "\n",
        "model.summary()\n",
        "\n",
        "checkpoint = ModelCheckpoint(filepath=filepath,\n",
        "                             monitor='val_loss',\n",
        "                             verbose=1,\n",
        "                             save_best_only=True)\n",
        "stop = EarlyStopping(monitor='val_loss', patience =5,\n",
        "                      verbose=0, mode='auto', baseline=None, \n",
        "                      restore_best_weights=False)\n",
        "reduce =  ReduceLROnPlateau(monitor='val_loss',\n",
        "                    factor=0.5,\n",
        "                    patience=2,\n",
        "                    verbose=1)\n",
        "callbacks = [checkpoint,stop]\n",
        "\n",
        "model.compile(optimizer=\"adam\",loss='categorical_crossentropy',metrics=['accuracy'])\n",
        "\n",
        "BATCH_SIZE =64\n",
        "N_EPOCHS = 300\n",
        "\n",
        "lstm = model.fit(X_train, y_train,\n",
        "          batch_size=BATCH_SIZE, shuffle=True,epochs=N_EPOCHS,callbacks=callbacks,\n",
        "          validation_data=(X_test, y_test))"
      ],
      "metadata": {
        "colab": {
          "base_uri": "https://localhost:8080/"
        },
        "id": "V2SzlYwV6i2d",
        "outputId": "58a7d523-9ea9-492d-e3d2-44b4953347bd"
      },
      "execution_count": 89,
      "outputs": [
        {
          "output_type": "stream",
          "name": "stdout",
          "text": [
            "Model: \"sequential\"\n",
            "_________________________________________________________________\n",
            " Layer (type)                Output Shape              Param #   \n",
            "=================================================================\n",
            " simple_rnn (SimpleRNN)      (None, 5, 200)            41200     \n",
            "                                                                 \n",
            " Flatten (Flatten)           (None, 1000)              0         \n",
            "                                                                 \n",
            " Dense_3 (Dense)             (None, 128)               128128    \n",
            "                                                                 \n",
            " dropout (Dropout)           (None, 128)               0         \n",
            "                                                                 \n",
            " Dense_4 (Dense)             (None, 4)                 516       \n",
            "                                                                 \n",
            "=================================================================\n",
            "Total params: 169,844\n",
            "Trainable params: 169,844\n",
            "Non-trainable params: 0\n",
            "_________________________________________________________________\n",
            "Epoch 1/300\n",
            "15/17 [=========================>....] - ETA: 0s - loss: 1.3042 - accuracy: 0.3969\n",
            "Epoch 1: val_loss improved from inf to 1.16506, saving model to har_model_rnn.h5\n",
            "17/17 [==============================] - 2s 27ms/step - loss: 1.2934 - accuracy: 0.4083 - val_loss: 1.1651 - val_accuracy: 0.5331\n",
            "Epoch 2/300\n",
            "15/17 [=========================>....] - ETA: 0s - loss: 1.0263 - accuracy: 0.5875\n",
            "Epoch 2: val_loss improved from 1.16506 to 1.14557, saving model to har_model_rnn.h5\n",
            "17/17 [==============================] - 0s 12ms/step - loss: 1.0224 - accuracy: 0.5907 - val_loss: 1.1456 - val_accuracy: 0.5486\n",
            "Epoch 3/300\n",
            "16/17 [===========================>..] - ETA: 0s - loss: 0.7576 - accuracy: 0.7393\n",
            "Epoch 3: val_loss improved from 1.14557 to 0.84601, saving model to har_model_rnn.h5\n",
            "17/17 [==============================] - 0s 11ms/step - loss: 0.7548 - accuracy: 0.7410 - val_loss: 0.8460 - val_accuracy: 0.7393\n",
            "Epoch 4/300\n",
            "14/17 [=======================>......] - ETA: 0s - loss: 0.5563 - accuracy: 0.8393\n",
            "Epoch 4: val_loss improved from 0.84601 to 0.77840, saving model to har_model_rnn.h5\n",
            "17/17 [==============================] - 0s 13ms/step - loss: 0.5456 - accuracy: 0.8390 - val_loss: 0.7784 - val_accuracy: 0.7510\n",
            "Epoch 5/300\n",
            "16/17 [===========================>..] - ETA: 0s - loss: 0.4211 - accuracy: 0.8721\n",
            "Epoch 5: val_loss improved from 0.77840 to 0.51813, saving model to har_model_rnn.h5\n",
            "17/17 [==============================] - 0s 11ms/step - loss: 0.4206 - accuracy: 0.8720 - val_loss: 0.5181 - val_accuracy: 0.8327\n",
            "Epoch 6/300\n",
            "15/17 [=========================>....] - ETA: 0s - loss: 0.3240 - accuracy: 0.9073\n",
            "Epoch 6: val_loss improved from 0.51813 to 0.46949, saving model to har_model_rnn.h5\n",
            "17/17 [==============================] - 0s 11ms/step - loss: 0.3199 - accuracy: 0.9079 - val_loss: 0.4695 - val_accuracy: 0.8444\n",
            "Epoch 7/300\n",
            "16/17 [===========================>..] - ETA: 0s - loss: 0.2655 - accuracy: 0.9199\n",
            "Epoch 7: val_loss did not improve from 0.46949\n",
            "17/17 [==============================] - 0s 9ms/step - loss: 0.2701 - accuracy: 0.9195 - val_loss: 0.8366 - val_accuracy: 0.6654\n",
            "Epoch 8/300\n",
            "14/17 [=======================>......] - ETA: 0s - loss: 0.5194 - accuracy: 0.8013\n",
            "Epoch 8: val_loss did not improve from 0.46949\n",
            "17/17 [==============================] - 0s 11ms/step - loss: 0.4866 - accuracy: 0.8157 - val_loss: 0.6200 - val_accuracy: 0.8210\n",
            "Epoch 9/300\n",
            "15/17 [=========================>....] - ETA: 0s - loss: 0.3044 - accuracy: 0.9031\n",
            "Epoch 9: val_loss did not improve from 0.46949\n",
            "17/17 [==============================] - 0s 11ms/step - loss: 0.3029 - accuracy: 0.9011 - val_loss: 0.5723 - val_accuracy: 0.7860\n",
            "Epoch 10/300\n",
            "16/17 [===========================>..] - ETA: 0s - loss: 0.2700 - accuracy: 0.9111\n",
            "Epoch 10: val_loss improved from 0.46949 to 0.35880, saving model to har_model_rnn.h5\n",
            "17/17 [==============================] - 0s 17ms/step - loss: 0.2686 - accuracy: 0.9117 - val_loss: 0.3588 - val_accuracy: 0.8677\n",
            "Epoch 11/300\n",
            "17/17 [==============================] - ETA: 0s - loss: 0.1698 - accuracy: 0.9476\n",
            "Epoch 11: val_loss did not improve from 0.35880\n",
            "17/17 [==============================] - 0s 19ms/step - loss: 0.1698 - accuracy: 0.9476 - val_loss: 0.5015 - val_accuracy: 0.8210\n",
            "Epoch 12/300\n",
            "17/17 [==============================] - ETA: 0s - loss: 0.1990 - accuracy: 0.9282\n",
            "Epoch 12: val_loss did not improve from 0.35880\n",
            "17/17 [==============================] - 0s 17ms/step - loss: 0.1990 - accuracy: 0.9282 - val_loss: 0.6476 - val_accuracy: 0.7743\n",
            "Epoch 13/300\n",
            "17/17 [==============================] - ETA: 0s - loss: 0.2240 - accuracy: 0.9127\n",
            "Epoch 13: val_loss did not improve from 0.35880\n",
            "17/17 [==============================] - 0s 16ms/step - loss: 0.2240 - accuracy: 0.9127 - val_loss: 0.5901 - val_accuracy: 0.7899\n",
            "Epoch 14/300\n",
            "17/17 [==============================] - ETA: 0s - loss: 0.1699 - accuracy: 0.9428\n",
            "Epoch 14: val_loss did not improve from 0.35880\n",
            "17/17 [==============================] - 0s 17ms/step - loss: 0.1699 - accuracy: 0.9428 - val_loss: 0.4372 - val_accuracy: 0.8366\n",
            "Epoch 15/300\n",
            "14/17 [=======================>......] - ETA: 0s - loss: 0.1406 - accuracy: 0.9587\n",
            "Epoch 15: val_loss improved from 0.35880 to 0.33164, saving model to har_model_rnn.h5\n",
            "17/17 [==============================] - 0s 18ms/step - loss: 0.1376 - accuracy: 0.9602 - val_loss: 0.3316 - val_accuracy: 0.9261\n",
            "Epoch 16/300\n",
            "17/17 [==============================] - ETA: 0s - loss: 0.1417 - accuracy: 0.9583\n",
            "Epoch 16: val_loss did not improve from 0.33164\n",
            "17/17 [==============================] - 0s 18ms/step - loss: 0.1417 - accuracy: 0.9583 - val_loss: 0.4029 - val_accuracy: 0.8366\n",
            "Epoch 17/300\n",
            "17/17 [==============================] - ETA: 0s - loss: 0.1746 - accuracy: 0.9437\n",
            "Epoch 17: val_loss did not improve from 0.33164\n",
            "17/17 [==============================] - 0s 20ms/step - loss: 0.1746 - accuracy: 0.9437 - val_loss: 0.3743 - val_accuracy: 0.9066\n",
            "Epoch 18/300\n",
            "16/17 [===========================>..] - ETA: 0s - loss: 0.1401 - accuracy: 0.9531\n",
            "Epoch 18: val_loss improved from 0.33164 to 0.32244, saving model to har_model_rnn.h5\n",
            "17/17 [==============================] - 0s 20ms/step - loss: 0.1392 - accuracy: 0.9534 - val_loss: 0.3224 - val_accuracy: 0.8794\n",
            "Epoch 19/300\n",
            "14/17 [=======================>......] - ETA: 0s - loss: 0.1094 - accuracy: 0.9654\n",
            "Epoch 19: val_loss did not improve from 0.32244\n",
            "17/17 [==============================] - 0s 11ms/step - loss: 0.1158 - accuracy: 0.9612 - val_loss: 0.3378 - val_accuracy: 0.8794\n",
            "Epoch 20/300\n",
            "14/17 [=======================>......] - ETA: 0s - loss: 0.1110 - accuracy: 0.9632\n",
            "Epoch 20: val_loss improved from 0.32244 to 0.29005, saving model to har_model_rnn.h5\n",
            "17/17 [==============================] - 0s 11ms/step - loss: 0.1106 - accuracy: 0.9622 - val_loss: 0.2900 - val_accuracy: 0.9183\n",
            "Epoch 21/300\n",
            "15/17 [=========================>....] - ETA: 0s - loss: 0.1121 - accuracy: 0.9688\n",
            "Epoch 21: val_loss improved from 0.29005 to 0.27713, saving model to har_model_rnn.h5\n",
            "17/17 [==============================] - 0s 12ms/step - loss: 0.1083 - accuracy: 0.9709 - val_loss: 0.2771 - val_accuracy: 0.9261\n",
            "Epoch 22/300\n",
            "15/17 [=========================>....] - ETA: 0s - loss: 0.0939 - accuracy: 0.9760\n",
            "Epoch 22: val_loss did not improve from 0.27713\n",
            "17/17 [==============================] - 0s 10ms/step - loss: 0.0920 - accuracy: 0.9767 - val_loss: 0.3973 - val_accuracy: 0.8560\n",
            "Epoch 23/300\n",
            "15/17 [=========================>....] - ETA: 0s - loss: 0.1431 - accuracy: 0.9458\n",
            "Epoch 23: val_loss did not improve from 0.27713\n",
            "17/17 [==============================] - 0s 10ms/step - loss: 0.1568 - accuracy: 0.9408 - val_loss: 0.7434 - val_accuracy: 0.7821\n",
            "Epoch 24/300\n",
            "15/17 [=========================>....] - ETA: 0s - loss: 0.2949 - accuracy: 0.8917\n",
            "Epoch 24: val_loss improved from 0.27713 to 0.27282, saving model to har_model_rnn.h5\n",
            "17/17 [==============================] - 0s 12ms/step - loss: 0.2892 - accuracy: 0.8933 - val_loss: 0.2728 - val_accuracy: 0.9222\n",
            "Epoch 25/300\n",
            "15/17 [=========================>....] - ETA: 0s - loss: 0.1338 - accuracy: 0.9625\n",
            "Epoch 25: val_loss did not improve from 0.27282\n",
            "17/17 [==============================] - 0s 10ms/step - loss: 0.1293 - accuracy: 0.9641 - val_loss: 0.2787 - val_accuracy: 0.9300\n",
            "Epoch 26/300\n",
            "13/17 [=====================>........] - ETA: 0s - loss: 0.1114 - accuracy: 0.9675\n",
            "Epoch 26: val_loss did not improve from 0.27282\n",
            "17/17 [==============================] - 0s 11ms/step - loss: 0.1193 - accuracy: 0.9612 - val_loss: 0.2935 - val_accuracy: 0.9416\n",
            "Epoch 27/300\n",
            "14/17 [=======================>......] - ETA: 0s - loss: 0.0902 - accuracy: 0.9688\n",
            "Epoch 27: val_loss did not improve from 0.27282\n",
            "17/17 [==============================] - 0s 10ms/step - loss: 0.0910 - accuracy: 0.9680 - val_loss: 0.2865 - val_accuracy: 0.9144\n",
            "Epoch 28/300\n",
            "14/17 [=======================>......] - ETA: 0s - loss: 0.0742 - accuracy: 0.9844\n",
            "Epoch 28: val_loss improved from 0.27282 to 0.26058, saving model to har_model_rnn.h5\n",
            "17/17 [==============================] - 0s 12ms/step - loss: 0.0743 - accuracy: 0.9825 - val_loss: 0.2606 - val_accuracy: 0.9533\n",
            "Epoch 29/300\n",
            "15/17 [=========================>....] - ETA: 0s - loss: 0.0724 - accuracy: 0.9802\n",
            "Epoch 29: val_loss did not improve from 0.26058\n",
            "17/17 [==============================] - 0s 10ms/step - loss: 0.0711 - accuracy: 0.9806 - val_loss: 0.3989 - val_accuracy: 0.9027\n",
            "Epoch 30/300\n",
            "14/17 [=======================>......] - ETA: 0s - loss: 0.0864 - accuracy: 0.9766\n",
            "Epoch 30: val_loss did not improve from 0.26058\n",
            "17/17 [==============================] - 0s 11ms/step - loss: 0.0836 - accuracy: 0.9767 - val_loss: 0.3002 - val_accuracy: 0.9416\n",
            "Epoch 31/300\n",
            "15/17 [=========================>....] - ETA: 0s - loss: 0.0832 - accuracy: 0.9771\n",
            "Epoch 31: val_loss did not improve from 0.26058\n",
            "17/17 [==============================] - 0s 10ms/step - loss: 0.0845 - accuracy: 0.9767 - val_loss: 0.3008 - val_accuracy: 0.9377\n",
            "Epoch 32/300\n",
            "15/17 [=========================>....] - ETA: 0s - loss: 0.0728 - accuracy: 0.9771\n",
            "Epoch 32: val_loss did not improve from 0.26058\n",
            "17/17 [==============================] - 0s 10ms/step - loss: 0.0734 - accuracy: 0.9777 - val_loss: 0.2808 - val_accuracy: 0.9572\n",
            "Epoch 33/300\n",
            "15/17 [=========================>....] - ETA: 0s - loss: 0.0816 - accuracy: 0.9729\n",
            "Epoch 33: val_loss did not improve from 0.26058\n",
            "17/17 [==============================] - 0s 11ms/step - loss: 0.0808 - accuracy: 0.9738 - val_loss: 0.2794 - val_accuracy: 0.9261\n"
          ]
        }
      ]
    },
    {
      "cell_type": "code",
      "source": [
        "# RNN model to predict\n",
        "\n",
        "y_pred_ohe = model.predict(X_test)\n",
        "y_pred_labels = np.argmax(y_pred_ohe, axis=1)\n",
        "y_true_labels = np.argmax(y_test, axis=1)\n",
        "confusion_matrix = metrics.confusion_matrix(y_true=y_true_labels, y_pred=y_pred_labels)\n",
        "print(y_true_labels)\n",
        "LABELS = ['seated', 'stand','walk','iwuphill']\n",
        "\n",
        "plt.figure(figsize=(8, 6))\n",
        "sns.set(style='whitegrid', palette='muted', font_scale=1.5)\n",
        "sns.heatmap(confusion_matrix, xticklabels=LABELS, yticklabels=LABELS, annot=True, fmt=\"d\");\n",
        "plt.title(\"Confusion matrix\")\n",
        "plt.ylabel('True label')\n",
        "plt.xlabel('Predicted label')\n",
        "plt.show();\n"
      ],
      "metadata": {
        "colab": {
          "base_uri": "https://localhost:8080/",
          "height": 552
        },
        "id": "-H777yvz6w5g",
        "outputId": "83ed6f8c-b6c9-4c11-b10c-3bc257b14497"
      },
      "execution_count": 90,
      "outputs": [
        {
          "output_type": "stream",
          "name": "stdout",
          "text": [
            "[1 1 1 1 1 1 1 1 1 1 1 1 1 1 1 1 1 1 1 1 1 1 1 1 1 1 1 1 1 1 1 1 1 1 1 1 1\n",
            " 1 1 1 1 1 1 1 1 1 1 1 1 1 1 1 1 1 1 1 1 1 1 1 1 1 1 1 1 1 1 1 1 2 2 2 2 2\n",
            " 2 2 2 2 2 2 2 2 2 2 2 2 2 2 2 2 2 2 2 2 2 2 2 2 2 2 2 2 2 2 2 2 2 2 2 2 2\n",
            " 2 2 2 2 2 2 2 2 2 2 2 2 2 2 2 2 2 2 2 2 2 3 3 3 3 3 3 3 3 3 3 3 3 3 3 3 3\n",
            " 3 3 3 3 3 3 3 3 3 3 3 3 3 3 3 3 3 3 3 3 3 3 3 3 3 3 3 3 3 3 3 3 3 3 3 3 3\n",
            " 3 3 3 3 3 3 3 3 3 0 0 0 0 0 0 0 0 0 0 0 0 0 0 0 0 0 0 0 0 0 0 0 0 0 0 0 0\n",
            " 0 0 0 0 0 0 0 0 0 0 0 0 0 0 0 0 0 0 0 0 0 0 0 0 0 0 0 0 0 0 0 0 0 0 0]\n"
          ]
        },
        {
          "output_type": "display_data",
          "data": {
            "text/plain": [
              "<Figure size 576x432 with 2 Axes>"
            ],
            "image/png": "[encoded data removed]"
          },
          "metadata": {}
        }
      ]
    },
    {
      "cell_type": "code",
      "source": [
        "predIdxs = model.predict(X_test, batch_size=BATCH_SIZE)\n",
        "predIdxs = np.argmax(predIdxs, axis=1)\n",
        "\n",
        "# show a classification report\n",
        "print(classification_report(y_test.argmax(axis=1), predIdxs,\n",
        "\ttarget_names=['seated', 'stand','walk','iwuphill']))"
      ],
      "metadata": {
        "colab": {
          "base_uri": "https://localhost:8080/"
        },
        "id": "hcQc51bA-rNy",
        "outputId": "9fff7a70-0405-4582-bce6-9d19282609ed"
      },
      "execution_count": 91,
      "outputs": [
        {
          "output_type": "stream",
          "name": "stdout",
          "text": [
            "              precision    recall  f1-score   support\n",
            "\n",
            "      seated       0.97      0.97      0.97        63\n",
            "       stand       0.97      1.00      0.99        69\n",
            "        walk       0.81      0.94      0.87        63\n",
            "    iwuphill       0.98      0.79      0.87        62\n",
            "\n",
            "    accuracy                           0.93       257\n",
            "   macro avg       0.93      0.92      0.92       257\n",
            "weighted avg       0.93      0.93      0.93       257\n",
            "\n"
          ]
        }
      ]
    },
    {
      "cell_type": "code",
      "source": [
        "plt.plot(lstm.history['accuracy'])\n",
        "plt.plot(lstm.history['val_accuracy'])\n",
        "plt.title('model accuracy')\n",
        "plt.ylabel('accuracy')\n",
        "plt.xlabel('epoch')\n",
        "plt.ylim(0,1)\n",
        "plt.legend(['train', 'val'], loc='best')\n",
        "plt.show()\n",
        "\n",
        "plt.plot(lstm.history['loss'])\n",
        "plt.plot(lstm.history['val_loss'])\n",
        "plt.title('model loss')\n",
        "plt.ylabel('loss')\n",
        "plt.xlabel('epoch')\n",
        "plt.legend(['train', 'val'], loc='best')\n",
        "plt.show()\n",
        "\n"
      ],
      "metadata": {
        "colab": {
          "base_uri": "https://localhost:8080/",
          "height": 619
        },
        "id": "mm5C3No96KXA",
        "outputId": "3a3b24d5-56cc-4de8-efe7-afa179e0ca51"
      },
      "execution_count": 92,
      "outputs": [
        {
          "output_type": "display_data",
          "data": {
            "text/plain": [
              "<Figure size 432x288 with 1 Axes>"
            ],
            "image/png": "[encoded data removed]"
          },
          "metadata": {}
        },
        {
          "output_type": "display_data",
          "data": {
            "text/plain": [
              "<Figure size 432x288 with 1 Axes>"
            ],
            "image/png": "[encoded data removed]"
          },
          "metadata": {}
        }
      ]
    }
  ],
  "metadata": {
    "kernelspec": {
      "display_name": "Python 3",
      "language": "python",
      "name": "python3"
    },
    "language_info": {
      "codemirror_mode": {
        "name": "ipython",
        "version": 3
      },
      "file_extension": ".py",
      "mimetype": "text/x-python",
      "name": "python",
      "nbconvert_exporter": "python",
      "pygments_lexer": "ipython3",
      "version": "3.7.6"
    },
    "colab": {
      "provenance": [],
      "collapsed_sections": [],
      "include_colab_link": true
    },
    "accelerator": "GPU",
    "gpuClass": "standard"
  },
  "nbformat": 4,
  "nbformat_minor": 0
}